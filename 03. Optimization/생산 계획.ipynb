{
 "cells": [
  {
   "cell_type": "markdown",
   "id": "2011a097",
   "metadata": {},
   "source": [
    "> 생산 계획 : 어떤 제품을 얼마나 만들건가와 같은 계획"
   ]
  },
  {
   "cell_type": "markdown",
   "id": "dfd95341",
   "metadata": {},
   "source": [
    "데이터 정보)             \n",
    "1. product_plan_material.csv : 제품 제조에 필요한 원료 비율\n",
    "2. product_plan_profit : 제품 이익\n",
    "3. product_plan_stock.csv : 원료 재고\n",
    "4. product_plan.csv : 제품 생산량"
   ]
  },
  {
   "cell_type": "code",
   "execution_count": null,
   "id": "db42fef3",
   "metadata": {},
   "outputs": [],
   "source": [
    "import pandas as pd\n",
    "\n",
    "df_material = pd.read_csv('./data/product_plan_material.csv', index_col= '제품')"
   ]
  }
 ],
 "metadata": {
  "language_info": {
   "name": "python"
  }
 },
 "nbformat": 4,
 "nbformat_minor": 5
}
