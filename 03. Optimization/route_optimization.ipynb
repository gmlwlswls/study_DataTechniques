{
 "cells": [
  {
   "cell_type": "markdown",
   "id": "431b2c0c",
   "metadata": {},
   "source": [
    "### 물류의 최적화 경로\n",
    ": 물류의 최적 경로를 컨설팅하는 테크닉 10"
   ]
  },
  {
   "cell_type": "markdown",
   "id": "0eb9a553",
   "metadata": {},
   "source": [
    "당신은 어떤 기업의 창고에 있습니다. \n",
    "1) 그 창고에는 1만 개의 상품 재고가 보관되어 있습니다. \n",
    "2) 상품은 전국 대리점에서 판매됩니다. \n",
    "3) 이 기업은 이 창고뿐만 아니라 전국에 창고가 흩어져 있습니다. \n",
    "4) 더 복잡한 것은 전국 여러 공장에서 생산된 상품이 각각의 창고에 도착한다는 사실입니다.             \n",
    "> 이렇게 전국으로 상품을 판매하는 기업에게 어디에서 어느 정도의 상품을 생산하고 어느 창고에 재고를 보관하고 어느 대리점에 몇 개의 상품을 배송하는가 하는 '물류'(물건의 흐름 제어)는 상품의 매출을 좌우하는 생명선이라고 할 수 있습니다."
   ]
  },
  {
   "cell_type": "markdown",
   "id": "efd0795d",
   "metadata": {},
   "source": [
    "'물류'의 개념은 대리점뿐 아니라 많은 업계에 응용할 수 있습니다. \n",
    "1. 보험 회사라면 영업 사원이 어떤 경로로 영업해야 하는지\n",
    "2. 택시 회사라면 어떤 경로에 각각의 택시를 배차할 것인가의 계획에 이용할 수 있습니다. "
   ]
  },
  {
   "cell_type": "markdown",
   "id": "dd028129",
   "metadata": {},
   "source": [
    "이 장에서는 '물류'의 기초가 되는 '운송최적화'를 검토하고 기초적인 기술을 배웁니다. \n",
    "> 실제 물류 데이터로부터 <b><u>네트워크 구조를 가시화하는 방법을 배우고 최적 물류 계획을 세우</b></u>는 흐름을 배웁니다."
   ]
  },
  {
   "cell_type": "markdown",
   "id": "14781364",
   "metadata": {},
   "source": [
    "고객의 소리) 우리 회사는 제품의 제조에서 물류까지 도맡아 하고 있습니다. 최근 회사 이익이 감소하고 있어 <b><u>물류비용을 줄이고 효율화</b></u>를 생각하고 있습니다. 먼저 제품의 부품을 보관하는 창고에서 생산 공장까지 운송 비용을 낮출 수 있을지 분석을 부탁드립니다."
   ]
  },
  {
   "cell_type": "markdown",
   "id": "fffd4bc0",
   "metadata": {},
   "source": [
    "[전제조건]             \n",
    "북부 지사와 남부 지사의 데이터를 시스템에서 추출해 CSV로 제공합니다.      \n",
    "                          \n",
    "집계 기간) 2019년 1월 1일 ~ 2019년 12월 31일             \n",
    "                    \n",
    "tbl_factory.csv : 생산 공장 데이터            \n",
    "tbl_warehouse.csv : 창고 데이터            \n",
    "rel_cost.csv : 창고와 공장 간의 운송 비용              \n",
    "tbl_transaction.csv : 2019년의 공장으로의 부품 운송 실적        "
   ]
  },
  {
   "cell_type": "markdown",
   "id": "35cf59ee",
   "metadata": {},
   "source": [
    "#### 1. 데이터 불러오기"
   ]
  },
  {
   "cell_type": "markdown",
   "id": "92592b68",
   "metadata": {},
   "source": [
    "* 각 FCID, WHID, RCostID, TRID는 키"
   ]
  },
  {
   "cell_type": "code",
   "execution_count": 1,
   "id": "b558eed9",
   "metadata": {},
   "outputs": [
    {
     "data": {
      "text/html": [
       "<div>\n",
       "<style scoped>\n",
       "    .dataframe tbody tr th:only-of-type {\n",
       "        vertical-align: middle;\n",
       "    }\n",
       "\n",
       "    .dataframe tbody tr th {\n",
       "        vertical-align: top;\n",
       "    }\n",
       "\n",
       "    .dataframe thead th {\n",
       "        text-align: right;\n",
       "    }\n",
       "</style>\n",
       "<table border=\"1\" class=\"dataframe\">\n",
       "  <thead>\n",
       "    <tr style=\"text-align: right;\">\n",
       "      <th></th>\n",
       "      <th>FCName</th>\n",
       "      <th>FCDemand</th>\n",
       "      <th>FCRegion</th>\n",
       "    </tr>\n",
       "    <tr>\n",
       "      <th>FCID</th>\n",
       "      <th></th>\n",
       "      <th></th>\n",
       "      <th></th>\n",
       "    </tr>\n",
       "  </thead>\n",
       "  <tbody>\n",
       "    <tr>\n",
       "      <th>FC00001</th>\n",
       "      <td>서울공장</td>\n",
       "      <td>28</td>\n",
       "      <td>북부</td>\n",
       "    </tr>\n",
       "    <tr>\n",
       "      <th>FC00002</th>\n",
       "      <td>수원공장</td>\n",
       "      <td>29</td>\n",
       "      <td>북부</td>\n",
       "    </tr>\n",
       "    <tr>\n",
       "      <th>FC00003</th>\n",
       "      <td>인천공장</td>\n",
       "      <td>31</td>\n",
       "      <td>북부</td>\n",
       "    </tr>\n",
       "    <tr>\n",
       "      <th>FC00004</th>\n",
       "      <td>대전공장</td>\n",
       "      <td>25</td>\n",
       "      <td>북부</td>\n",
       "    </tr>\n",
       "    <tr>\n",
       "      <th>FC00005</th>\n",
       "      <td>대구공장</td>\n",
       "      <td>21</td>\n",
       "      <td>남부</td>\n",
       "    </tr>\n",
       "  </tbody>\n",
       "</table>\n",
       "</div>"
      ],
      "text/plain": [
       "        FCName  FCDemand FCRegion\n",
       "FCID                             \n",
       "FC00001   서울공장        28       북부\n",
       "FC00002   수원공장        29       북부\n",
       "FC00003   인천공장        31       북부\n",
       "FC00004   대전공장        25       북부\n",
       "FC00005   대구공장        21       남부"
      ]
     },
     "execution_count": 1,
     "metadata": {},
     "output_type": "execute_result"
    }
   ],
   "source": [
    "# 물류 데이터 불러오기\n",
    "import pandas as pd\n",
    "\n",
    "factory = pd.read_csv('./data/tbl_factory.csv', index_col= 0)\n",
    "factory.head()"
   ]
  },
  {
   "cell_type": "code",
   "execution_count": 2,
   "id": "03bbe3b5",
   "metadata": {},
   "outputs": [
    {
     "data": {
      "text/html": [
       "<div>\n",
       "<style scoped>\n",
       "    .dataframe tbody tr th:only-of-type {\n",
       "        vertical-align: middle;\n",
       "    }\n",
       "\n",
       "    .dataframe tbody tr th {\n",
       "        vertical-align: top;\n",
       "    }\n",
       "\n",
       "    .dataframe thead th {\n",
       "        text-align: right;\n",
       "    }\n",
       "</style>\n",
       "<table border=\"1\" class=\"dataframe\">\n",
       "  <thead>\n",
       "    <tr style=\"text-align: right;\">\n",
       "      <th></th>\n",
       "      <th>WHName</th>\n",
       "      <th>WHSupply</th>\n",
       "      <th>WHRegion</th>\n",
       "    </tr>\n",
       "    <tr>\n",
       "      <th>WHID</th>\n",
       "      <th></th>\n",
       "      <th></th>\n",
       "      <th></th>\n",
       "    </tr>\n",
       "  </thead>\n",
       "  <tbody>\n",
       "    <tr>\n",
       "      <th>WH00001</th>\n",
       "      <td>판교창고</td>\n",
       "      <td>35</td>\n",
       "      <td>북부</td>\n",
       "    </tr>\n",
       "    <tr>\n",
       "      <th>WH00002</th>\n",
       "      <td>용인창고</td>\n",
       "      <td>41</td>\n",
       "      <td>북부</td>\n",
       "    </tr>\n",
       "    <tr>\n",
       "      <th>WH00003</th>\n",
       "      <td>수원창고</td>\n",
       "      <td>42</td>\n",
       "      <td>북부</td>\n",
       "    </tr>\n",
       "    <tr>\n",
       "      <th>WH00004</th>\n",
       "      <td>대전창고</td>\n",
       "      <td>60</td>\n",
       "      <td>남부</td>\n",
       "    </tr>\n",
       "    <tr>\n",
       "      <th>WH00005</th>\n",
       "      <td>대구창고</td>\n",
       "      <td>72</td>\n",
       "      <td>남부</td>\n",
       "    </tr>\n",
       "  </tbody>\n",
       "</table>\n",
       "</div>"
      ],
      "text/plain": [
       "        WHName  WHSupply WHRegion\n",
       "WHID                             \n",
       "WH00001   판교창고        35       북부\n",
       "WH00002   용인창고        41       북부\n",
       "WH00003   수원창고        42       북부\n",
       "WH00004   대전창고        60       남부\n",
       "WH00005   대구창고        72       남부"
      ]
     },
     "execution_count": 2,
     "metadata": {},
     "output_type": "execute_result"
    }
   ],
   "source": [
    "warehouse = pd.read_csv('./data/tbl_warehouse.csv', index_col= 0)\n",
    "warehouse.head()"
   ]
  },
  {
   "cell_type": "code",
   "execution_count": 3,
   "id": "9ae08dc7",
   "metadata": {},
   "outputs": [
    {
     "data": {
      "text/html": [
       "<div>\n",
       "<style scoped>\n",
       "    .dataframe tbody tr th:only-of-type {\n",
       "        vertical-align: middle;\n",
       "    }\n",
       "\n",
       "    .dataframe tbody tr th {\n",
       "        vertical-align: top;\n",
       "    }\n",
       "\n",
       "    .dataframe thead th {\n",
       "        text-align: right;\n",
       "    }\n",
       "</style>\n",
       "<table border=\"1\" class=\"dataframe\">\n",
       "  <thead>\n",
       "    <tr style=\"text-align: right;\">\n",
       "      <th></th>\n",
       "      <th>FCID</th>\n",
       "      <th>WHID</th>\n",
       "      <th>Cost</th>\n",
       "    </tr>\n",
       "    <tr>\n",
       "      <th>RCostID</th>\n",
       "      <th></th>\n",
       "      <th></th>\n",
       "      <th></th>\n",
       "    </tr>\n",
       "  </thead>\n",
       "  <tbody>\n",
       "    <tr>\n",
       "      <th>1</th>\n",
       "      <td>FC00001</td>\n",
       "      <td>WH00001</td>\n",
       "      <td>0.4</td>\n",
       "    </tr>\n",
       "    <tr>\n",
       "      <th>2</th>\n",
       "      <td>FC00001</td>\n",
       "      <td>WH00002</td>\n",
       "      <td>0.8</td>\n",
       "    </tr>\n",
       "    <tr>\n",
       "      <th>3</th>\n",
       "      <td>FC00001</td>\n",
       "      <td>WH00003</td>\n",
       "      <td>1.5</td>\n",
       "    </tr>\n",
       "    <tr>\n",
       "      <th>4</th>\n",
       "      <td>FC00002</td>\n",
       "      <td>WH00001</td>\n",
       "      <td>0.9</td>\n",
       "    </tr>\n",
       "    <tr>\n",
       "      <th>5</th>\n",
       "      <td>FC00002</td>\n",
       "      <td>WH00002</td>\n",
       "      <td>0.8</td>\n",
       "    </tr>\n",
       "  </tbody>\n",
       "</table>\n",
       "</div>"
      ],
      "text/plain": [
       "            FCID     WHID  Cost\n",
       "RCostID                        \n",
       "1        FC00001  WH00001   0.4\n",
       "2        FC00001  WH00002   0.8\n",
       "3        FC00001  WH00003   1.5\n",
       "4        FC00002  WH00001   0.9\n",
       "5        FC00002  WH00002   0.8"
      ]
     },
     "execution_count": 3,
     "metadata": {},
     "output_type": "execute_result"
    }
   ],
   "source": [
    "trans_cost = pd.read_csv('./data/rel_cost.csv', index_col= 0)\n",
    "trans_cost.head()"
   ]
  },
  {
   "cell_type": "code",
   "execution_count": 4,
   "id": "56ca666f",
   "metadata": {},
   "outputs": [
    {
     "data": {
      "text/html": [
       "<div>\n",
       "<style scoped>\n",
       "    .dataframe tbody tr th:only-of-type {\n",
       "        vertical-align: middle;\n",
       "    }\n",
       "\n",
       "    .dataframe tbody tr th {\n",
       "        vertical-align: top;\n",
       "    }\n",
       "\n",
       "    .dataframe thead th {\n",
       "        text-align: right;\n",
       "    }\n",
       "</style>\n",
       "<table border=\"1\" class=\"dataframe\">\n",
       "  <thead>\n",
       "    <tr style=\"text-align: right;\">\n",
       "      <th></th>\n",
       "      <th>TransactionDate</th>\n",
       "      <th>ToFC</th>\n",
       "      <th>FromWH</th>\n",
       "      <th>Quantity</th>\n",
       "    </tr>\n",
       "    <tr>\n",
       "      <th>TRID</th>\n",
       "      <th></th>\n",
       "      <th></th>\n",
       "      <th></th>\n",
       "      <th></th>\n",
       "    </tr>\n",
       "  </thead>\n",
       "  <tbody>\n",
       "    <tr>\n",
       "      <th>0</th>\n",
       "      <td>2019-01-01 02:11:10</td>\n",
       "      <td>FC00004</td>\n",
       "      <td>WH00003</td>\n",
       "      <td>33</td>\n",
       "    </tr>\n",
       "    <tr>\n",
       "      <th>1</th>\n",
       "      <td>2019-01-01 06:12:42</td>\n",
       "      <td>FC00007</td>\n",
       "      <td>WH00006</td>\n",
       "      <td>19</td>\n",
       "    </tr>\n",
       "    <tr>\n",
       "      <th>2</th>\n",
       "      <td>2019-01-01 06:32:32</td>\n",
       "      <td>FC00006</td>\n",
       "      <td>WH00004</td>\n",
       "      <td>31</td>\n",
       "    </tr>\n",
       "    <tr>\n",
       "      <th>3</th>\n",
       "      <td>2019-01-01 07:17:06</td>\n",
       "      <td>FC00002</td>\n",
       "      <td>WH00003</td>\n",
       "      <td>18</td>\n",
       "    </tr>\n",
       "    <tr>\n",
       "      <th>4</th>\n",
       "      <td>2019-01-01 07:52:18</td>\n",
       "      <td>FC00001</td>\n",
       "      <td>WH00002</td>\n",
       "      <td>30</td>\n",
       "    </tr>\n",
       "  </tbody>\n",
       "</table>\n",
       "</div>"
      ],
      "text/plain": [
       "          TransactionDate     ToFC   FromWH  Quantity\n",
       "TRID                                                 \n",
       "0     2019-01-01 02:11:10  FC00004  WH00003        33\n",
       "1     2019-01-01 06:12:42  FC00007  WH00006        19\n",
       "2     2019-01-01 06:32:32  FC00006  WH00004        31\n",
       "3     2019-01-01 07:17:06  FC00002  WH00003        18\n",
       "4     2019-01-01 07:52:18  FC00001  WH00002        30"
      ]
     },
     "execution_count": 4,
     "metadata": {},
     "output_type": "execute_result"
    }
   ],
   "source": [
    "transaction = pd.read_csv('./data/tbl_transaction.csv', index_col= 0)\n",
    "transaction.head()"
   ]
  },
  {
   "cell_type": "markdown",
   "id": "503604bb",
   "metadata": {},
   "source": [
    "데이터 분석의 기초가 될 데이터는 운송 실적이므로 이를 중심으로 정보를 결합"
   ]
  },
  {
   "cell_type": "code",
   "execution_count": 5,
   "id": "c96039eb",
   "metadata": {},
   "outputs": [
    {
     "data": {
      "text/html": [
       "<div>\n",
       "<style scoped>\n",
       "    .dataframe tbody tr th:only-of-type {\n",
       "        vertical-align: middle;\n",
       "    }\n",
       "\n",
       "    .dataframe tbody tr th {\n",
       "        vertical-align: top;\n",
       "    }\n",
       "\n",
       "    .dataframe thead th {\n",
       "        text-align: right;\n",
       "    }\n",
       "</style>\n",
       "<table border=\"1\" class=\"dataframe\">\n",
       "  <thead>\n",
       "    <tr style=\"text-align: right;\">\n",
       "      <th></th>\n",
       "      <th>TransactionDate</th>\n",
       "      <th>Quantity</th>\n",
       "      <th>Cost</th>\n",
       "      <th>ToFC</th>\n",
       "      <th>FCName</th>\n",
       "      <th>FCDemand</th>\n",
       "      <th>FCRegion</th>\n",
       "      <th>FromWH</th>\n",
       "      <th>WHName</th>\n",
       "      <th>WHSupply</th>\n",
       "      <th>WHRegion</th>\n",
       "    </tr>\n",
       "  </thead>\n",
       "  <tbody>\n",
       "    <tr>\n",
       "      <th>0</th>\n",
       "      <td>2019-01-01 02:11:10</td>\n",
       "      <td>33</td>\n",
       "      <td>1.1</td>\n",
       "      <td>FC00004</td>\n",
       "      <td>대전공장</td>\n",
       "      <td>25</td>\n",
       "      <td>북부</td>\n",
       "      <td>WH00003</td>\n",
       "      <td>수원창고</td>\n",
       "      <td>42</td>\n",
       "      <td>북부</td>\n",
       "    </tr>\n",
       "    <tr>\n",
       "      <th>1</th>\n",
       "      <td>2019-01-01 06:12:42</td>\n",
       "      <td>19</td>\n",
       "      <td>1.3</td>\n",
       "      <td>FC00007</td>\n",
       "      <td>부산공장</td>\n",
       "      <td>25</td>\n",
       "      <td>남부</td>\n",
       "      <td>WH00006</td>\n",
       "      <td>광주창고</td>\n",
       "      <td>65</td>\n",
       "      <td>남부</td>\n",
       "    </tr>\n",
       "    <tr>\n",
       "      <th>2</th>\n",
       "      <td>2019-01-01 06:32:32</td>\n",
       "      <td>31</td>\n",
       "      <td>0.9</td>\n",
       "      <td>FC00006</td>\n",
       "      <td>광주공장</td>\n",
       "      <td>30</td>\n",
       "      <td>남부</td>\n",
       "      <td>WH00004</td>\n",
       "      <td>대전창고</td>\n",
       "      <td>60</td>\n",
       "      <td>남부</td>\n",
       "    </tr>\n",
       "    <tr>\n",
       "      <th>3</th>\n",
       "      <td>2019-01-01 07:17:06</td>\n",
       "      <td>18</td>\n",
       "      <td>1.6</td>\n",
       "      <td>FC00002</td>\n",
       "      <td>수원공장</td>\n",
       "      <td>29</td>\n",
       "      <td>북부</td>\n",
       "      <td>WH00003</td>\n",
       "      <td>수원창고</td>\n",
       "      <td>42</td>\n",
       "      <td>북부</td>\n",
       "    </tr>\n",
       "    <tr>\n",
       "      <th>4</th>\n",
       "      <td>2019-01-01 07:52:18</td>\n",
       "      <td>30</td>\n",
       "      <td>0.8</td>\n",
       "      <td>FC00001</td>\n",
       "      <td>서울공장</td>\n",
       "      <td>28</td>\n",
       "      <td>북부</td>\n",
       "      <td>WH00002</td>\n",
       "      <td>용인창고</td>\n",
       "      <td>41</td>\n",
       "      <td>북부</td>\n",
       "    </tr>\n",
       "  </tbody>\n",
       "</table>\n",
       "</div>"
      ],
      "text/plain": [
       "       TransactionDate  Quantity  Cost     ToFC FCName  FCDemand FCRegion  \\\n",
       "0  2019-01-01 02:11:10        33   1.1  FC00004   대전공장        25       북부   \n",
       "1  2019-01-01 06:12:42        19   1.3  FC00007   부산공장        25       남부   \n",
       "2  2019-01-01 06:32:32        31   0.9  FC00006   광주공장        30       남부   \n",
       "3  2019-01-01 07:17:06        18   1.6  FC00002   수원공장        29       북부   \n",
       "4  2019-01-01 07:52:18        30   0.8  FC00001   서울공장        28       북부   \n",
       "\n",
       "    FromWH WHName  WHSupply WHRegion  \n",
       "0  WH00003   수원창고        42       북부  \n",
       "1  WH00006   광주창고        65       남부  \n",
       "2  WH00004   대전창고        60       남부  \n",
       "3  WH00003   수원창고        42       북부  \n",
       "4  WH00002   용인창고        41       북부  "
      ]
     },
     "execution_count": 5,
     "metadata": {},
     "output_type": "execute_result"
    }
   ],
   "source": [
    "total_trans_cost = trans_cost.merge(right= factory, how= 'left', on= 'FCID')\n",
    "total_trans_cost.head()\n",
    "\n",
    "total_trans_cost = total_trans_cost.merge(right= warehouse, how= 'left', on= 'WHID')\n",
    "total_trans_cost.head()\n",
    "\n",
    "total_transaction = transaction.merge(total_trans_cost, how= 'left', \n",
    "                                      left_on= ['ToFC', 'FromWH'], right_on= ['FCID', 'WHID'])\n",
    "\n",
    "total_transaction.head()\n",
    "# total_transaction = total_transaction[['TransactionDate', 'ToFC', 'FromWH', 'Quantity', 'Cost', \n",
    "#                                        'FCID', 'FCName', 'FCDemand', 'FCRegion',\n",
    "#                                        'WHID', 'WHName', 'WHSupply', 'WHRegion']]\n",
    "\n",
    "total_transaction = total_transaction[['TransactionDate','Quantity', 'Cost', \n",
    "                                       'ToFC', 'FCName', 'FCDemand', 'FCRegion',\n",
    "                                       'FromWH', 'WHName', 'WHSupply', 'WHRegion']] # FCID, WHID 제외\n",
    "\n",
    "total_transaction.head()"
   ]
  },
  {
   "cell_type": "markdown",
   "id": "22dc5153",
   "metadata": {},
   "source": [
    ">> 북부 지사와 남부 지사 비교"
   ]
  },
  {
   "cell_type": "code",
   "execution_count": 6,
   "id": "9b08f4a3",
   "metadata": {},
   "outputs": [
    {
     "data": {
      "text/html": [
       "<div>\n",
       "<style scoped>\n",
       "    .dataframe tbody tr th:only-of-type {\n",
       "        vertical-align: middle;\n",
       "    }\n",
       "\n",
       "    .dataframe tbody tr th {\n",
       "        vertical-align: top;\n",
       "    }\n",
       "\n",
       "    .dataframe thead th {\n",
       "        text-align: right;\n",
       "    }\n",
       "</style>\n",
       "<table border=\"1\" class=\"dataframe\">\n",
       "  <thead>\n",
       "    <tr style=\"text-align: right;\">\n",
       "      <th></th>\n",
       "      <th>TransactionDate</th>\n",
       "      <th>Quantity</th>\n",
       "      <th>Cost</th>\n",
       "      <th>ToFC</th>\n",
       "      <th>FCName</th>\n",
       "      <th>FCDemand</th>\n",
       "      <th>FCRegion</th>\n",
       "      <th>FromWH</th>\n",
       "      <th>WHName</th>\n",
       "      <th>WHSupply</th>\n",
       "      <th>WHRegion</th>\n",
       "    </tr>\n",
       "  </thead>\n",
       "  <tbody>\n",
       "    <tr>\n",
       "      <th>0</th>\n",
       "      <td>2019-01-01 02:11:10</td>\n",
       "      <td>33</td>\n",
       "      <td>1.1</td>\n",
       "      <td>FC00004</td>\n",
       "      <td>대전공장</td>\n",
       "      <td>25</td>\n",
       "      <td>북부</td>\n",
       "      <td>WH00003</td>\n",
       "      <td>수원창고</td>\n",
       "      <td>42</td>\n",
       "      <td>북부</td>\n",
       "    </tr>\n",
       "    <tr>\n",
       "      <th>3</th>\n",
       "      <td>2019-01-01 07:17:06</td>\n",
       "      <td>18</td>\n",
       "      <td>1.6</td>\n",
       "      <td>FC00002</td>\n",
       "      <td>수원공장</td>\n",
       "      <td>29</td>\n",
       "      <td>북부</td>\n",
       "      <td>WH00003</td>\n",
       "      <td>수원창고</td>\n",
       "      <td>42</td>\n",
       "      <td>북부</td>\n",
       "    </tr>\n",
       "    <tr>\n",
       "      <th>4</th>\n",
       "      <td>2019-01-01 07:52:18</td>\n",
       "      <td>30</td>\n",
       "      <td>0.8</td>\n",
       "      <td>FC00001</td>\n",
       "      <td>서울공장</td>\n",
       "      <td>28</td>\n",
       "      <td>북부</td>\n",
       "      <td>WH00002</td>\n",
       "      <td>용인창고</td>\n",
       "      <td>41</td>\n",
       "      <td>북부</td>\n",
       "    </tr>\n",
       "    <tr>\n",
       "      <th>7</th>\n",
       "      <td>2019-01-01 09:09:30</td>\n",
       "      <td>12</td>\n",
       "      <td>1.5</td>\n",
       "      <td>FC00001</td>\n",
       "      <td>서울공장</td>\n",
       "      <td>28</td>\n",
       "      <td>북부</td>\n",
       "      <td>WH00003</td>\n",
       "      <td>수원창고</td>\n",
       "      <td>42</td>\n",
       "      <td>북부</td>\n",
       "    </tr>\n",
       "    <tr>\n",
       "      <th>8</th>\n",
       "      <td>2019-01-01 10:52:55</td>\n",
       "      <td>27</td>\n",
       "      <td>1.5</td>\n",
       "      <td>FC00003</td>\n",
       "      <td>인천공장</td>\n",
       "      <td>31</td>\n",
       "      <td>북부</td>\n",
       "      <td>WH00003</td>\n",
       "      <td>수원창고</td>\n",
       "      <td>42</td>\n",
       "      <td>북부</td>\n",
       "    </tr>\n",
       "  </tbody>\n",
       "</table>\n",
       "</div>"
      ],
      "text/plain": [
       "       TransactionDate  Quantity  Cost     ToFC FCName  FCDemand FCRegion  \\\n",
       "0  2019-01-01 02:11:10        33   1.1  FC00004   대전공장        25       북부   \n",
       "3  2019-01-01 07:17:06        18   1.6  FC00002   수원공장        29       북부   \n",
       "4  2019-01-01 07:52:18        30   0.8  FC00001   서울공장        28       북부   \n",
       "7  2019-01-01 09:09:30        12   1.5  FC00001   서울공장        28       북부   \n",
       "8  2019-01-01 10:52:55        27   1.5  FC00003   인천공장        31       북부   \n",
       "\n",
       "    FromWH WHName  WHSupply WHRegion  \n",
       "0  WH00003   수원창고        42       북부  \n",
       "3  WH00003   수원창고        42       북부  \n",
       "4  WH00002   용인창고        41       북부  \n",
       "7  WH00003   수원창고        42       북부  \n",
       "8  WH00003   수원창고        42       북부  "
      ]
     },
     "execution_count": 6,
     "metadata": {},
     "output_type": "execute_result"
    }
   ],
   "source": [
    "north = total_transaction.loc[total_transaction['WHRegion'] == '북부']\n",
    "north.head()"
   ]
  },
  {
   "cell_type": "code",
   "execution_count": 7,
   "id": "6d10c095",
   "metadata": {},
   "outputs": [
    {
     "data": {
      "text/html": [
       "<div>\n",
       "<style scoped>\n",
       "    .dataframe tbody tr th:only-of-type {\n",
       "        vertical-align: middle;\n",
       "    }\n",
       "\n",
       "    .dataframe tbody tr th {\n",
       "        vertical-align: top;\n",
       "    }\n",
       "\n",
       "    .dataframe thead th {\n",
       "        text-align: right;\n",
       "    }\n",
       "</style>\n",
       "<table border=\"1\" class=\"dataframe\">\n",
       "  <thead>\n",
       "    <tr style=\"text-align: right;\">\n",
       "      <th></th>\n",
       "      <th>TransactionDate</th>\n",
       "      <th>Quantity</th>\n",
       "      <th>Cost</th>\n",
       "      <th>ToFC</th>\n",
       "      <th>FCName</th>\n",
       "      <th>FCDemand</th>\n",
       "      <th>FCRegion</th>\n",
       "      <th>FromWH</th>\n",
       "      <th>WHName</th>\n",
       "      <th>WHSupply</th>\n",
       "      <th>WHRegion</th>\n",
       "    </tr>\n",
       "  </thead>\n",
       "  <tbody>\n",
       "    <tr>\n",
       "      <th>1</th>\n",
       "      <td>2019-01-01 06:12:42</td>\n",
       "      <td>19</td>\n",
       "      <td>1.3</td>\n",
       "      <td>FC00007</td>\n",
       "      <td>부산공장</td>\n",
       "      <td>25</td>\n",
       "      <td>남부</td>\n",
       "      <td>WH00006</td>\n",
       "      <td>광주창고</td>\n",
       "      <td>65</td>\n",
       "      <td>남부</td>\n",
       "    </tr>\n",
       "    <tr>\n",
       "      <th>2</th>\n",
       "      <td>2019-01-01 06:32:32</td>\n",
       "      <td>31</td>\n",
       "      <td>0.9</td>\n",
       "      <td>FC00006</td>\n",
       "      <td>광주공장</td>\n",
       "      <td>30</td>\n",
       "      <td>남부</td>\n",
       "      <td>WH00004</td>\n",
       "      <td>대전창고</td>\n",
       "      <td>60</td>\n",
       "      <td>남부</td>\n",
       "    </tr>\n",
       "    <tr>\n",
       "      <th>5</th>\n",
       "      <td>2019-01-01 08:56:09</td>\n",
       "      <td>31</td>\n",
       "      <td>0.3</td>\n",
       "      <td>FC00005</td>\n",
       "      <td>대구공장</td>\n",
       "      <td>21</td>\n",
       "      <td>남부</td>\n",
       "      <td>WH00005</td>\n",
       "      <td>대구창고</td>\n",
       "      <td>72</td>\n",
       "      <td>남부</td>\n",
       "    </tr>\n",
       "    <tr>\n",
       "      <th>6</th>\n",
       "      <td>2019-01-01 09:00:15</td>\n",
       "      <td>33</td>\n",
       "      <td>0.7</td>\n",
       "      <td>FC00006</td>\n",
       "      <td>광주공장</td>\n",
       "      <td>30</td>\n",
       "      <td>남부</td>\n",
       "      <td>WH00006</td>\n",
       "      <td>광주창고</td>\n",
       "      <td>65</td>\n",
       "      <td>남부</td>\n",
       "    </tr>\n",
       "    <tr>\n",
       "      <th>9</th>\n",
       "      <td>2019-01-01 14:12:51</td>\n",
       "      <td>21</td>\n",
       "      <td>0.7</td>\n",
       "      <td>FC00006</td>\n",
       "      <td>광주공장</td>\n",
       "      <td>30</td>\n",
       "      <td>남부</td>\n",
       "      <td>WH00006</td>\n",
       "      <td>광주창고</td>\n",
       "      <td>65</td>\n",
       "      <td>남부</td>\n",
       "    </tr>\n",
       "  </tbody>\n",
       "</table>\n",
       "</div>"
      ],
      "text/plain": [
       "       TransactionDate  Quantity  Cost     ToFC FCName  FCDemand FCRegion  \\\n",
       "1  2019-01-01 06:12:42        19   1.3  FC00007   부산공장        25       남부   \n",
       "2  2019-01-01 06:32:32        31   0.9  FC00006   광주공장        30       남부   \n",
       "5  2019-01-01 08:56:09        31   0.3  FC00005   대구공장        21       남부   \n",
       "6  2019-01-01 09:00:15        33   0.7  FC00006   광주공장        30       남부   \n",
       "9  2019-01-01 14:12:51        21   0.7  FC00006   광주공장        30       남부   \n",
       "\n",
       "    FromWH WHName  WHSupply WHRegion  \n",
       "1  WH00006   광주창고        65       남부  \n",
       "2  WH00004   대전창고        60       남부  \n",
       "5  WH00005   대구창고        72       남부  \n",
       "6  WH00006   광주창고        65       남부  \n",
       "9  WH00006   광주창고        65       남부  "
      ]
     },
     "execution_count": 7,
     "metadata": {},
     "output_type": "execute_result"
    }
   ],
   "source": [
    "south = total_transaction.loc[total_transaction['WHRegion'] == '남부']\n",
    "south.head()"
   ]
  },
  {
   "cell_type": "markdown",
   "id": "baba0033",
   "metadata": {},
   "source": [
    "데이터 불러오기와 가공이 완료됐습니다.                     \n",
    "다음 테크닉에서 실제 운송량과 비용을 확인하고 지사 간 비교를 해봅시다."
   ]
  },
  {
   "cell_type": "markdown",
   "id": "5ef2fcd3",
   "metadata": {},
   "source": [
    ">> 현재의 운송량과 비용 확인"
   ]
  },
  {
   "cell_type": "markdown",
   "id": "e9cb102c",
   "metadata": {},
   "source": [
    "- 남북부 지사별 1년간 운송한 부품 수와 비용을 집계"
   ]
  },
  {
   "cell_type": "code",
   "execution_count": 8,
   "id": "02b2ea60",
   "metadata": {},
   "outputs": [
    {
     "name": "stdout",
     "output_type": "stream",
     "text": [
      "북부 운송 비용 : 2189.3 만원\n",
      "남부 운송 비용 : 2062.0 만원\n"
     ]
    }
   ],
   "source": [
    "print('북부 운송 비용 :', north['Cost'].sum(), '만원')\n",
    "print('남부 운송 비용 :', south['Cost'].sum(), '만원')"
   ]
  },
  {
   "cell_type": "code",
   "execution_count": 9,
   "id": "006b6ad6",
   "metadata": {},
   "outputs": [
    {
     "name": "stdout",
     "output_type": "stream",
     "text": [
      "북부 부품 총 운송 갯수 : 49146개\n",
      "남부 부품 총 운송 갯수 : 50214개\n"
     ]
    }
   ],
   "source": [
    "print('북부 부품 총 운송 갯수 : ' + str(north['Quantity'].sum()) + '개')\n",
    "print('남부 부품 총 운송 갯수 : ' + str(south['Quantity'].sum()) + '개')"
   ]
  },
  {
   "cell_type": "code",
   "execution_count": 10,
   "id": "7f53f777",
   "metadata": {},
   "outputs": [
    {
     "name": "stdout",
     "output_type": "stream",
     "text": [
      "북부 부품 1개당 운송 비용 : 445원\n",
      "남부 부품 1개당 운송 비용 : 410원\n"
     ]
    }
   ],
   "source": [
    "# 부품 1개 당 운송 비용\n",
    "tmp = (north['Cost'].sum() / north['Quantity'].sum()) * 10000\n",
    "print('북부 부품 1개당 운송 비용 : ' + str(int(tmp)) + '원')\n",
    "\n",
    "tmp = round((south['Cost'].sum() / south['Quantity'].sum()) * 10000, 2)\n",
    "print('남부 부품 1개당 운송 비용 : ' + str(int(tmp)) + '원')"
   ]
  },
  {
   "cell_type": "markdown",
   "id": "b13acf1b",
   "metadata": {},
   "source": [
    "총 운송 비용 : 북부 > 남부              \n",
    "총 운송 갯수 : 북부 < 남부              \n",
    "부품 1개당 운송 비용 : 북부 > 남부(남부가 저렴)              \n",
    "           \n",
    "운송 비용은 창고 > 공장 간에 발생하기 때문에 단순히 운송 비용을 절감하는 것만으로도 전체 물류 비용을 억제할 수 있습니다. 그러나 성급히 결론을 내기 전에 <u>각 지사의 평균 운송 비용</u>을 계산해 봅시다."
   ]
  },
  {
   "cell_type": "code",
   "execution_count": 11,
   "id": "c81008fb",
   "metadata": {},
   "outputs": [
    {
     "name": "stdout",
     "output_type": "stream",
     "text": [
      "4000\n",
      "북부 지사 평균 운송 비용 : 1.075만원\n",
      "남부 지사 평균 운송 비용 : 1.05만원\n"
     ]
    }
   ],
   "source": [
    "print(len(total_transaction))\n",
    "total_transaction.loc[total_transaction['FCRegion'] == total_transaction['WHRegion']]\n",
    "# 출력 0 > 북부 창고는 북부 공장으로만, 남부 창고는 남부 공장으로만\n",
    "\n",
    "trans_cost.head()\n",
    "trans_cost_region = trans_cost.merge(factory, how= 'left', on = 'FCID')\n",
    "trans_cost_region.head()\n",
    "\n",
    "print('북부 지사 평균 운송 비용 : ' + str(trans_cost_region.loc[trans_cost_region['FCRegion'] == '북부']['Cost'].mean()) + '만원')\n",
    "print('남부 지사 평균 운송 비용 : ' + str(trans_cost_region.loc[trans_cost_region['FCRegion'] == '남부']['Cost'].mean()) + '만원')"
   ]
  },
  {
   "cell_type": "markdown",
   "id": "8d0e5f2e",
   "metadata": {},
   "source": [
    "각 지사 평균 운송 비용은 크게 차이나지 않는데 위의 부품 1개당 운송 비용이 남부가 저렴한 걸 고려해보면 남부지사 쪽이 '효율 높게' 부품을 운송하고 있다는 것을 알 수 있습니다.                    \n",
    "이제 이 장의 테마인 '물류 최적 경로'를 분석하고 컨설팅해 봅시다."
   ]
  },
  {
   "cell_type": "markdown",
   "id": "7650cc03",
   "metadata": {},
   "source": [
    ">> 네트워크 가시화"
   ]
  },
  {
   "cell_type": "markdown",
   "id": "4b6290c1",
   "metadata": {},
   "source": [
    "최적화 문제를 푸는 라이브러리는 여러 가지가 있지만 단순히 사용 방법을 배우는 것으로는 실제 현장에서 도움이 안됩니다. 최적화 프로그램이 도출한 계획이 올바른지 그 계획을 선택할지 여부는 현장 의사결정권자의 이해 여부에 달려 있습니다. 그래서 <u>최적화 프로그램에 의해 도출된 계획을 가시화하는 프로세스</u>와 <u>몇 가지 조건을 실제로 만족하는지를 확인하는 프로세스가 중요</u>합니다.       \n",
    "최적 경로를 가시화하는 방법인 네트워크 가시화를 배워봅시다."
   ]
  },
  {
   "cell_type": "markdown",
   "id": "34ae5aa4",
   "metadata": {},
   "source": [
    "네트워크 가시화에 유용한 라이브러리  : NetworkX"
   ]
  },
  {
   "cell_type": "code",
   "execution_count": 12,
   "id": "f1305ea5",
   "metadata": {},
   "outputs": [],
   "source": [
    "# !pip install networkx"
   ]
  },
  {
   "cell_type": "code",
   "execution_count": 13,
   "id": "c385a0b7",
   "metadata": {},
   "outputs": [
    {
     "data": {
      "image/png": "[encoded data removed]",
      "text/plain": [
       "<Figure size 640x480 with 1 Axes>"
      ]
     },
     "metadata": {},
     "output_type": "display_data"
    }
   ],
   "source": [
    "# 기초 프로세스\n",
    "import networkx as nx \n",
    "import matplotlib.pyplot as plt\n",
    "\n",
    "# 그래프 객체 생성\n",
    "G = nx.Graph()\n",
    "\n",
    "# 노드 설정(점)\n",
    "G.add_node('nodeA')\n",
    "G.add_node('nodeB')\n",
    "G.add_node('nodeC')\n",
    "\n",
    "# 엣지 설정(선)\n",
    "G.add_edge('nodeA', 'nodeB')\n",
    "G.add_edge('nodeA', 'nodeC')\n",
    "G.add_edge('nodeB', 'nodeC')\n",
    "\n",
    "# 좌표 설정\n",
    "pos = {}\n",
    "pos['nodeA'] = (0, 0)\n",
    "pos['nodeB'] = (1, 1)\n",
    "pos['nodeC'] = (0, 1)\n",
    "\n",
    "# 그리기 \n",
    "nx.draw(G,pos)\n",
    "\n",
    "# 표시\n",
    "plt.show()"
   ]
  },
  {
   "cell_type": "markdown",
   "id": "3d57348e",
   "metadata": {},
   "source": [
    "먼저 그래프 객체를 선언하고 노드 A,B,C와 각각 연결할 엣지를 설정합니다. 다음으로 노드의 좌표를 설정하고 함수 draw를 이용해서 그립니다. 마지막으로 matplotlib의 show를 이용해서 화면에 표시합니다. 이런 흐름으로 네트워크를 가시화해서 창고에서 대리점까지의 물류를 표현할 수 있습니다. 네트워크를 가시화하면 숫자만으로 알기 어려운 물류의 쏠림과 같은 전체 그림을 파악할 수 있습니다."
   ]
  },
  {
   "cell_type": "code",
   "execution_count": 14,
   "id": "915c4dfd",
   "metadata": {},
   "outputs": [
    {
     "data": {
      "image/png": "[encoded data removed]",
      "text/plain": [
       "<Figure size 640x480 with 1 Axes>"
      ]
     },
     "metadata": {},
     "output_type": "display_data"
    }
   ],
   "source": [
    "# 노드 추가\n",
    "# 순서 : node(점), edge(선), 좌표(pos) pos = {}\n",
    "\n",
    "G.add_node('nodeD')\n",
    "\n",
    "G.add_edge('nodeA', 'nodeD')\n",
    "\n",
    "pos['nodeD'] = (1, 0)\n",
    "\n",
    "nx.draw(G, pos, with_labels= True)"
   ]
  },
  {
   "cell_type": "markdown",
   "id": "5ffac744",
   "metadata": {},
   "source": [
    ">> 경로 가중치 부여"
   ]
  },
  {
   "cell_type": "markdown",
   "id": "708ca1d0",
   "metadata": {},
   "source": [
    "가중치를 이용해서 노드 사이 엣지 굵기를 바꾸면 최적 경로를 알기 쉽게 가시화할 수 있습니다. 여기서는 CSV 파일에 저장된 가중치 정보를 데이터프레임으로 읽어 들여 그 값을 사용하는 방법을 이용합니다."
   ]
  },
  {
   "cell_type": "code",
   "execution_count": 15,
   "id": "d15513a5",
   "metadata": {},
   "outputs": [],
   "source": [
    "import pandas as pd\n",
    "import numpy as np\n",
    "import matplotlib.pyplot as plt\n",
    "import networkx as nx "
   ]
  },
  {
   "cell_type": "code",
   "execution_count": 16,
   "id": "8c00003e",
   "metadata": {},
   "outputs": [
    {
     "data": {
      "text/html": [
       "<div>\n",
       "<style scoped>\n",
       "    .dataframe tbody tr th:only-of-type {\n",
       "        vertical-align: middle;\n",
       "    }\n",
       "\n",
       "    .dataframe tbody tr th {\n",
       "        vertical-align: top;\n",
       "    }\n",
       "\n",
       "    .dataframe thead th {\n",
       "        text-align: right;\n",
       "    }\n",
       "</style>\n",
       "<table border=\"1\" class=\"dataframe\">\n",
       "  <thead>\n",
       "    <tr style=\"text-align: right;\">\n",
       "      <th></th>\n",
       "      <th>A</th>\n",
       "      <th>B</th>\n",
       "      <th>C</th>\n",
       "      <th>D</th>\n",
       "      <th>E</th>\n",
       "    </tr>\n",
       "  </thead>\n",
       "  <tbody>\n",
       "    <tr>\n",
       "      <th>0</th>\n",
       "      <td>0</td>\n",
       "      <td>0</td>\n",
       "      <td>2</td>\n",
       "      <td>2</td>\n",
       "      <td>1</td>\n",
       "    </tr>\n",
       "    <tr>\n",
       "      <th>1</th>\n",
       "      <td>0</td>\n",
       "      <td>2</td>\n",
       "      <td>0</td>\n",
       "      <td>2</td>\n",
       "      <td>1</td>\n",
       "    </tr>\n",
       "  </tbody>\n",
       "</table>\n",
       "</div>"
      ],
      "text/plain": [
       "   A  B  C  D  E\n",
       "0  0  0  2  2  1\n",
       "1  0  2  0  2  1"
      ]
     },
     "execution_count": 16,
     "metadata": {},
     "output_type": "execute_result"
    }
   ],
   "source": [
    "df_weight = pd.read_csv('./data/network_weight.csv') # 비대칭 그래프(출발 방향이 달라서인지)\n",
    "df_weight\n",
    "\n",
    "df_pos = pd.read_csv('./data/network_pos.csv')\n",
    "df_pos.head()\n"
   ]
  },
  {
   "cell_type": "code",
   "execution_count": 17,
   "id": "5e172ee4",
   "metadata": {},
   "outputs": [
    {
     "name": "stdout",
     "output_type": "stream",
     "text": [
      "(A, B) = 1.43353\n",
      "(A, C) = 9.44669\n",
      "(A, D) = 5.21848\n",
      "(A, E) = 0.0\n",
      "(B, C) = 4.5615\n",
      "(B, D) = 5.68434\n",
      "(B, E) = 0.0\n",
      "(C, D) = 9.43748\n",
      "(C, E) = 0.0\n",
      "(D, E) = 6.66767\n"
     ]
    },
    {
     "name": "stderr",
     "output_type": "stream",
     "text": [
      "C:\\Users\\LGCARE\\AppData\\Local\\Temp\\ipykernel_4220\\560433209.py:28: FutureWarning: Series.__getitem__ treating keys as positions is deprecated. In a future version, integer keys will always be treated as labels (consistent with DataFrame behavior). To access a value by position, use `ser.iloc[pos]`\n",
      "  edge_weights.append(df_w.iloc[i][j]*size)\n"
     ]
    },
    {
     "data": {
      "image/png": "[encoded data removed]",
      "text/plain": [
       "<Figure size 640x480 with 1 Axes>"
      ]
     },
     "metadata": {},
     "output_type": "display_data"
    }
   ],
   "source": [
    "# 책)\n",
    "\n",
    "# 그래프 객체 생성\n",
    "G = nx.Graph()\n",
    "\n",
    "df_w = df_weight\n",
    "df_p = df_pos\n",
    "\n",
    "# 노드 설정\n",
    "for i in range(len(df_w.columns)):\n",
    "    G.add_node(df_w.columns[i])\n",
    "\n",
    "# 엣지 설정 & 가중치 리스트화\n",
    "size = 10\n",
    "edge_weights = []\n",
    "num_pre = 0\n",
    "# 엣지 가중치 확인용 번역자 추가 코드\n",
    "name = ['A','B','C','D','E']\n",
    "\n",
    "for i in range(len(df_w.columns)):\n",
    "    for j in range(len(df_w.columns)):\n",
    "        if not (i==j):\n",
    "            # 엣지 추가\n",
    "            G.add_edge(df_w.columns[i],df_w.columns[j])\n",
    "            if num_pre<len(G.edges):\n",
    "                num_pre = len(G.edges)\n",
    "                # 엣지 가중치 추가\n",
    "                edge_weights.append(df_w.iloc[i][j]*size)\n",
    "               \n",
    "                # 엣지 가중치 확인용 번역자 추가 코드\n",
    "                print(f'({name[i]}, {name[j]}) = {np.round(edge_weights[-1],5)}')\n",
    "               \n",
    "\n",
    "# 좌표 설정\n",
    "pos = {}\n",
    "for i in range(len(df_w.columns)):\n",
    "    node = df_w.columns[i]\n",
    "    pos[node] = (df_p[node][0],df_p[node][1])\n",
    "\n",
    "# 그리기\n",
    "nx.draw(G, pos, with_labels=True,font_size=16, node_size = 1000, node_color='k', font_color='w', width=edge_weights)\n",
    "\n",
    "# 표시\n",
    "plt.show()"
   ]
  },
  {
   "cell_type": "code",
   "execution_count": 18,
   "id": "5f04cc6f",
   "metadata": {},
   "outputs": [
    {
     "data": {
      "text/html": [
       "<div>\n",
       "<style scoped>\n",
       "    .dataframe tbody tr th:only-of-type {\n",
       "        vertical-align: middle;\n",
       "    }\n",
       "\n",
       "    .dataframe tbody tr th {\n",
       "        vertical-align: top;\n",
       "    }\n",
       "\n",
       "    .dataframe thead th {\n",
       "        text-align: right;\n",
       "    }\n",
       "</style>\n",
       "<table border=\"1\" class=\"dataframe\">\n",
       "  <thead>\n",
       "    <tr style=\"text-align: right;\">\n",
       "      <th></th>\n",
       "      <th>A</th>\n",
       "      <th>B</th>\n",
       "      <th>C</th>\n",
       "      <th>D</th>\n",
       "      <th>E</th>\n",
       "    </tr>\n",
       "  </thead>\n",
       "  <tbody>\n",
       "    <tr>\n",
       "      <th>0</th>\n",
       "      <td>0.639921</td>\n",
       "      <td>0.143353</td>\n",
       "      <td>0.944669</td>\n",
       "      <td>0.521848</td>\n",
       "      <td>0.000000</td>\n",
       "    </tr>\n",
       "    <tr>\n",
       "      <th>1</th>\n",
       "      <td>0.264556</td>\n",
       "      <td>0.000000</td>\n",
       "      <td>0.456150</td>\n",
       "      <td>0.568434</td>\n",
       "      <td>0.000000</td>\n",
       "    </tr>\n",
       "    <tr>\n",
       "      <th>2</th>\n",
       "      <td>0.617635</td>\n",
       "      <td>0.612096</td>\n",
       "      <td>0.616934</td>\n",
       "      <td>0.943748</td>\n",
       "      <td>0.000000</td>\n",
       "    </tr>\n",
       "    <tr>\n",
       "      <th>3</th>\n",
       "      <td>0.000000</td>\n",
       "      <td>0.000000</td>\n",
       "      <td>0.697631</td>\n",
       "      <td>0.060225</td>\n",
       "      <td>0.666767</td>\n",
       "    </tr>\n",
       "    <tr>\n",
       "      <th>4</th>\n",
       "      <td>0.670638</td>\n",
       "      <td>0.210383</td>\n",
       "      <td>0.000000</td>\n",
       "      <td>0.315428</td>\n",
       "      <td>0.000000</td>\n",
       "    </tr>\n",
       "  </tbody>\n",
       "</table>\n",
       "</div>"
      ],
      "text/plain": [
       "          A         B         C         D         E\n",
       "0  0.639921  0.143353  0.944669  0.521848  0.000000\n",
       "1  0.264556  0.000000  0.456150  0.568434  0.000000\n",
       "2  0.617635  0.612096  0.616934  0.943748  0.000000\n",
       "3  0.000000  0.000000  0.697631  0.060225  0.666767\n",
       "4  0.670638  0.210383  0.000000  0.315428  0.000000"
      ]
     },
     "execution_count": 18,
     "metadata": {},
     "output_type": "execute_result"
    }
   ],
   "source": [
    "df_weight"
   ]
  },
  {
   "cell_type": "code",
   "execution_count": 19,
   "id": "34f977df",
   "metadata": {},
   "outputs": [
    {
     "data": {
      "image/png": "[encoded data removed]",
      "text/plain": [
       "<Figure size 640x480 with 1 Axes>"
      ]
     },
     "metadata": {},
     "output_type": "display_data"
    }
   ],
   "source": [
    "# 챗gpt \n",
    "# A-B, B-A 중 하나만 고려한 방법\n",
    "\n",
    "G = nx.Graph()\n",
    "\n",
    "# 노드 설정\n",
    "for node in df_weight.columns :\n",
    "  G.add_node(node)\n",
    "\n",
    "# 엣지 설정 & 가중치 리스트\n",
    "weight_list = []\n",
    "for i in range(len(df_weight.columns)) :\n",
    "  for j in range(i+1, len(df_weight.columns)) :\n",
    "    G.add_edge(df_weight.columns[i], df_weight.columns[j])\n",
    "    weight_list.append(df_weight.iloc[i, j] * 10)\n",
    "\n",
    "# 좌표 설정\n",
    "pos = {node: (df_pos[node][0], df_pos[node][1]) for node in df_weight.columns}\n",
    "\n",
    "nx.draw(G, pos, with_labels= True, font_size= 10, font_color= 'w', node_size= 500, node_color= 'k', width= weight_list)\n",
    "\n",
    "plt.show()\n"
   ]
  },
  {
   "cell_type": "markdown",
   "id": "fe423e31",
   "metadata": {},
   "source": [
    ">> 운송 경로 정보 불러오기"
   ]
  },
  {
   "cell_type": "markdown",
   "id": "90e97bea",
   "metadata": {},
   "source": [
    "1) trans_route.csv : 운송 경로\n",
    "2) trans_route_pos.csv : 창고 및 공장의 위치 정보\n",
    "3) trans_cost.csv : 창고와 공장 간의 운송 비용\n",
    "4) demand.csv : 공장의 제품 생산량에 대한 수요\n",
    "5) supply.csv: 창고가 공급 가능한 최대 부품 수\n",
    "6) trans_route_new.csv : 새로 설계한 운송 경로"
   ]
  },
  {
   "cell_type": "markdown",
   "id": "9e4e9140",
   "metadata": {},
   "source": [
    "어떤 제품의 부품을 저장한 창고 W1, W2, W3에서 조립 공장 F1, F2, F3, F4로 필요한 양의 부품을 운송합니다. 되도록 최소의 비용으로 운송하고 싶지만 그러기 위해서는 어떤 창고에서 어떤 공장으로 어느 정도 양을 운송해야 하는지를 검토해야 합니다."
   ]
  },
  {
   "cell_type": "code",
   "execution_count": 20,
   "id": "7424dc92",
   "metadata": {},
   "outputs": [
    {
     "name": "stdout",
     "output_type": "stream",
     "text": [
      "    F1  F2  F3  F4\n",
      "공장                \n",
      "W1  15  15   0   5\n",
      "W2   5   0  30   5\n",
      "W3  10  15   2  15\n",
      "\n",
      "   W1  W2  W3   F1   F2   F3   F4\n",
      "0   0   0   0  4.0  4.0  4.0  4.0\n",
      "1   1   2   3  0.5  1.5  2.5  3.5\n"
     ]
    }
   ],
   "source": [
    "df_route = pd.read_csv('./data/trans_route.csv', index_col= '공장')\n",
    "print(df_route)\n",
    "print()\n",
    "\n",
    "df_pos = pd.read_csv('./data/trans_route_pos.csv')\n",
    "print(df_pos)\n",
    "# 어느 창고에서 어느 공장으로 어느 정도의 양을 운송했는지를 기록한 파일 trans_route\n",
    "# w2에서 F3으로의 물류가 많음\n",
    "# > 네트워크 가시화를 이용해 운송 경로를 가시화"
   ]
  },
  {
   "cell_type": "markdown",
   "id": "3de5f495",
   "metadata": {},
   "source": [
    ">> 운송 경로 정보로 네트워크 가시화"
   ]
  },
  {
   "cell_type": "code",
   "execution_count": 21,
   "id": "f9a2e707",
   "metadata": {},
   "outputs": [
    {
     "data": {
      "image/png": "[encoded data removed]",
      "text/plain": [
       "<Figure size 640x480 with 1 Axes>"
      ]
     },
     "metadata": {},
     "output_type": "display_data"
    }
   ],
   "source": [
    "import networkx as nx \n",
    "import matplotlib.pyplot as plt\n",
    "\n",
    "trans_network = nx.Graph()\n",
    "\n",
    "# 점 생성\n",
    "for i in range(len(df_pos.columns)) :\n",
    "  trans_network.add_node(df_pos.columns[i])\n",
    "\n",
    "# 엣지 생성\n",
    "edge_weights= []\n",
    "for warehouse in df_route.index :\n",
    "  for factory in df_route.columns :\n",
    "    trans_network.add_edge(warehouse, factory)\n",
    "    edge_weights.append(df_route.loc[warehouse, factory] * 0.1)\n",
    "\n",
    "# 좌표 설정\n",
    "pos = {node : (df_pos[node][0], df_pos[node][1]) for node in df_pos.columns}\n",
    "\n",
    "nx.draw(trans_network, pos, with_labels= True, width= edge_weights,\n",
    "        font_size = 10, font_color= 'w', node_size= 500, node_color= 'k')\n",
    "\n",
    "# 어느 창고에서 어느 공장으로든 골고루 엣지(운송 경로)가 존재합니다.\n",
    "# 운송 비용을 생각하면 운송 경로는 어느 정도 집중되는 편이 효율이 높을 것입니다.\n"
   ]
  },
  {
   "cell_type": "markdown",
   "id": "c800c933",
   "metadata": {},
   "source": [
    ">> 운송 비용 함수 작성"
   ]
  },
  {
   "cell_type": "markdown",
   "id": "1f9f8e81",
   "metadata": {},
   "source": [
    "> 운송 최적화 문제  "
   ]
  },
  {
   "cell_type": "markdown",
   "id": "41420245",
   "metadata": {},
   "source": [
    "'최적화 문제'는 먼저 최소화(또는 최대화)하고 싶은 것을 함수로 정의합니다. 이를 '목적함수'라고 합니다.          \n",
    "다음으로 최소화(또는 최대화)를 함에 있어 지켜야 할 조건을 정의합니다. 이것을 '제약 조건'이라고 합니다.        \n",
    "생각할 수 있는 <u>여러 가지 운송 경로의 조합 중에서 제약 조건을 만족시키면서 목적함수를 최소화(또는 최대화)하는 조합</u>을 선택하는 것이 최적화 문제의 큰 흐름입니다."
   ]
  },
  {
   "cell_type": "markdown",
   "id": "1b038701",
   "metadata": {},
   "source": [
    "현 가설 : '운송 비용을 낮출 효율적인 운송 경로가 존재한다.'            \n",
    "목적함수 : 운송 비용 계산 함수         "
   ]
  },
  {
   "cell_type": "code",
   "execution_count": 22,
   "id": "3e92ce61",
   "metadata": {},
   "outputs": [
    {
     "data": {
      "text/html": [
       "<div>\n",
       "<style scoped>\n",
       "    .dataframe tbody tr th:only-of-type {\n",
       "        vertical-align: middle;\n",
       "    }\n",
       "\n",
       "    .dataframe tbody tr th {\n",
       "        vertical-align: top;\n",
       "    }\n",
       "\n",
       "    .dataframe thead th {\n",
       "        text-align: right;\n",
       "    }\n",
       "</style>\n",
       "<table border=\"1\" class=\"dataframe\">\n",
       "  <thead>\n",
       "    <tr style=\"text-align: right;\">\n",
       "      <th></th>\n",
       "      <th>F1</th>\n",
       "      <th>F2</th>\n",
       "      <th>F3</th>\n",
       "      <th>F4</th>\n",
       "    </tr>\n",
       "    <tr>\n",
       "      <th>공장</th>\n",
       "      <th></th>\n",
       "      <th></th>\n",
       "      <th></th>\n",
       "      <th></th>\n",
       "    </tr>\n",
       "  </thead>\n",
       "  <tbody>\n",
       "    <tr>\n",
       "      <th>W1</th>\n",
       "      <td>10</td>\n",
       "      <td>10</td>\n",
       "      <td>11</td>\n",
       "      <td>27</td>\n",
       "    </tr>\n",
       "    <tr>\n",
       "      <th>W2</th>\n",
       "      <td>18</td>\n",
       "      <td>21</td>\n",
       "      <td>12</td>\n",
       "      <td>14</td>\n",
       "    </tr>\n",
       "    <tr>\n",
       "      <th>W3</th>\n",
       "      <td>15</td>\n",
       "      <td>12</td>\n",
       "      <td>14</td>\n",
       "      <td>12</td>\n",
       "    </tr>\n",
       "  </tbody>\n",
       "</table>\n",
       "</div>"
      ],
      "text/plain": [
       "    F1  F2  F3  F4\n",
       "공장                \n",
       "W1  10  10  11  27\n",
       "W2  18  21  12  14\n",
       "W3  15  12  14  12"
      ]
     },
     "execution_count": 22,
     "metadata": {},
     "output_type": "execute_result"
    }
   ],
   "source": [
    "# 운송 최적화 문제\n",
    "df_route = pd.read_csv('./data/trans_route.csv', index_col= '공장')\n",
    "df_route\n",
    "\n",
    "df_cost = pd.read_csv('./data/trans_cost.csv', index_col= '공장')\n",
    "df_cost.head()\n"
   ]
  },
  {
   "cell_type": "code",
   "execution_count": 23,
   "id": "f85c8100",
   "metadata": {},
   "outputs": [
    {
     "data": {
      "text/plain": [
       "np.int64(1493)"
      ]
     },
     "execution_count": 23,
     "metadata": {},
     "output_type": "execute_result"
    }
   ],
   "source": [
    "# 1) iloc\n",
    "def total_trans_cost(route : pd.DataFrame, cost : pd.DataFrame) :\n",
    "  trans_cost = 0\n",
    "  for i in range(len(route)) :\n",
    "    for j in range(len(route.columns)) :\n",
    "      trans_cost += route.iloc[i, j] * cost.iloc[i, j]\n",
    "  return trans_cost\n",
    "\n",
    "total_trans_cost(df_route, df_cost)\n",
    "\n",
    "# 2) loc\n",
    "def total_trans_cost(route : pd.DataFrame, cost : pd.DataFrame) :\n",
    "  trans_cost = 0\n",
    "  for i in route.index :\n",
    "    for j in route.columns :\n",
    "      trans_cost += route.loc[i, j] * cost.loc[i, j]\n",
    "  return trans_cost\n",
    "\n",
    "total_trans_cost(df_route, df_cost)\n",
    "\n",
    "# 어떤 운송 경로의 운송량과 비용을 곱하고 전부 더해서 계산\n",
    "# 현재 총 운송 비용 : 1493만 원"
   ]
  },
  {
   "cell_type": "markdown",
   "id": "294faf04",
   "metadata": {},
   "source": [
    ">> 운송 비용 함수 최적화를 위한 제약 조건 생성"
   ]
  },
  {
   "cell_type": "markdown",
   "id": "e28642fe",
   "metadata": {},
   "source": [
    "각 창고는 공급 가능한 부품 수에 제한이 있고 각 공장은 채워야 할 최소한의 제품 제조량이 있습니다.\n",
    "            \n",
    "supply.csv : 공급 / demand.csv : 수요"
   ]
  },
  {
   "cell_type": "markdown",
   "id": "e153517b",
   "metadata": {},
   "source": [
    "- Factory로의 운송량 vs 수요량 : 운송량이 Factory의 수요량을 만족하고 있는지\n",
    "             \n",
    "- Warehouse로부터의 운송량 vs 공급량 : 운송량이 Warehouse의 공급량(공급한계)을 넘어서진 않는지\n"
   ]
  },
  {
   "cell_type": "code",
   "execution_count": 24,
   "id": "a969dc48",
   "metadata": {},
   "outputs": [
    {
     "name": "stdout",
     "output_type": "stream",
     "text": [
      "    F1  F2  F3  F4\n",
      "공장                \n",
      "W1  15  15   0   5\n",
      "W2   5   0  30   5\n",
      "W3  10  15   2  15\n",
      "\n",
      "   W1  W2  W3\n",
      "0  35  41  42\n",
      "\n",
      "   F1  F2  F3  F4\n",
      "0  28  29  31  25\n"
     ]
    }
   ],
   "source": [
    "df_route = pd.read_csv('./data/trans_route.csv', index_col= '공장')\n",
    "print(df_route)\n",
    "print()\n",
    "\n",
    "supply = pd.read_csv('./data/supply.csv')\n",
    "print(supply)\n",
    "print()\n",
    "\n",
    "demand = pd.read_csv('./data/demand.csv')\n",
    "print(demand)\n"
   ]
  },
  {
   "cell_type": "code",
   "execution_count": 25,
   "id": "2875710d",
   "metadata": {},
   "outputs": [
    {
     "name": "stdout",
     "output_type": "stream",
     "text": [
      "F1로의 운송량 : 30 / 수요량 : 28\n",
      "수요량 만족\n",
      "F2로의 운송량 : 30 / 수요량 : 29\n",
      "수요량 만족\n",
      "F3로의 운송량 : 32 / 수요량 : 31\n",
      "수요량 만족\n",
      "F4로의 운송량 : 25 / 수요량 : 25\n",
      "수요량 만족\n",
      "\n",
      "W1로부터의 운송량 : 35 / 공급한계 : 35\n",
      "공급 한계 범위 내 공급\n",
      "W2로부터의 운송량 : 40 / 공급한계 : 41\n",
      "공급 한계 범위 내 공급\n",
      "W3로부터의 운송량 : 42 / 공급한계 : 42\n",
      "공급 한계 범위 내 공급\n"
     ]
    }
   ],
   "source": [
    "# 수요 제약 조건\n",
    "\n",
    "# Factory로의 운송량 vs 수요량 : 운송량이 Factory의 수요량을 만족하고 있는지\n",
    "def demand_check(trans_df, demand) :\n",
    "  for i in range(len(demand.columns)) :\n",
    "    tmp_demand = trans_df[trans_df.columns[i]].sum()\n",
    "    print(f'{trans_df.columns[i]}로의 운송량 : {tmp_demand} / 수요량 : {demand.loc[0, trans_df.columns[i]]}')\n",
    "    if int(tmp_demand) >= int(demand.loc[0, trans_df.columns[i]]) :\n",
    "      print('수요량 만족')\n",
    "    else :\n",
    "      print('수요량 불만족 : 운송 경로 재계산 필요')\n",
    "\n",
    "\n",
    "demand_check(df_route, demand)\n",
    "print()\n",
    "\n",
    "# Warehouse로부터의 운송량 vs 공급량(공급한계) : 운송량이 Warehouse의 공급량(공급한계)을 넘어서진 않는지\n",
    "def supply_check(trans_df : pd.DataFrame, supply : pd.DataFrame) :\n",
    "  for i in range(len(supply.columns)) :\n",
    "    warehouse_nm = supply.columns[i]\n",
    "    print(f'{warehouse_nm}로부터의 운송량 : {trans_df.loc[warehouse_nm, :].sum()} / 공급한계 : {supply.loc[0, warehouse_nm]}')\n",
    "    if trans_df.loc[warehouse_nm, :].sum() <= supply.loc[0, warehouse_nm] :\n",
    "      print('공급 한계 범위 내 공급')\n",
    "    else :\n",
    "      print('공급 한계 넘어섬 : 운송 경로 재계산 필요')\n",
    "\n",
    "supply_check(df_route, supply)\n",
    "\n",
    "# > 각 공장으로 운반되는 부품의 수와 각 공장에 대한 수요량을 비교하면 \n",
    "# 공장에서 제조된 제품의 수가 수요량을 만족시키는지 여부를 검토할 수 있으며 이것이 그대로 제약 조건이 됩니다.\n",
    "# 마찬가지로, 각 창고에서 출하되는 부품의 수와 각 창고의 공급 한계량을 비교하면\n",
    "# 창고에서 공장으로 출하되는 부품의 수가 창고의 공급 한계를 넘는지를 검토할 수 있습니다.\n",
    "# if문으로 현재 운송 경로가 제약 조건을 만족시키는지 알 수 있습니다.\n",
    "# 이 제약 조건을 만들어두면 운송 경로를 변경했을 때 새로운 경로가 제약 조건을 만족하는지 확인할 수 있습니다."
   ]
  },
  {
   "cell_type": "markdown",
   "id": "163e96d1",
   "metadata": {},
   "source": [
    ">> 운송 경로 변경으로 인한 운송 비용 함수의 변화 확인"
   ]
  },
  {
   "cell_type": "markdown",
   "id": "5d70be9d",
   "metadata": {},
   "source": [
    "운송 경로 가시화를 하면 개선할 수 있을 것 같은 느낌이 들지만 많은 제약 조건을 만족하면서 목적 함수를 개선하기는 쉽지 않습니다.         \n",
    "하지만 목적함수와 제약 조건을 미리 정의해두면 체계적으로 개선할 수 있습니다."
   ]
  },
  {
   "cell_type": "code",
   "execution_count": 26,
   "id": "296aef23",
   "metadata": {},
   "outputs": [
    {
     "name": "stdout",
     "output_type": "stream",
     "text": [
      "    F1  F2  F3  F4\n",
      "공장                \n",
      "W1  15  15   0   5\n",
      "W2   5   0  30   5\n",
      "W3  10  15   2  15\n",
      "\n",
      "    F1  F2  F3  F4\n",
      "공장                \n",
      "W1  15  15   0   0\n",
      "W2   5   0  30  10\n",
      "W3  10  15   2  15\n",
      "\n",
      "이전 운송 경로 총 비용 : 1493\n",
      "변경된 운송 경로의 총 비용 :  1428\n",
      "\n",
      "W1로부터의 운송량 : 30 / 공급한계 : 35\n",
      "공급 한계 범위 내 공급\n",
      "W2로부터의 운송량 : 45 / 공급한계 : 41\n",
      "공급 한계 넘어섬 : 운송 경로 재계산 필요\n",
      "W3로부터의 운송량 : 42 / 공급한계 : 42\n",
      "공급 한계 범위 내 공급\n",
      "F1로의 운송량 : 30 / 수요량 : 28\n",
      "수요량 만족\n",
      "F2로의 운송량 : 30 / 수요량 : 29\n",
      "수요량 만족\n",
      "F3로의 운송량 : 32 / 수요량 : 31\n",
      "수요량 만족\n",
      "F4로의 운송량 : 25 / 수요량 : 25\n",
      "수요량 만족\n"
     ]
    }
   ],
   "source": [
    "# 운송 경로 변경 Test)\n",
    "# - W1 > F4 운송량 줄이고\n",
    "# - 그만큼을 W2 > F4로의 운송량 보충\n",
    "\n",
    "# trans_route_new.csv : 변경된 운송 경로 csv\n",
    "# 1) 해당 경로가 제약 조건을 만족시키는지\n",
    "# 2) 비용 개선이 어느 정도 가능한지\n",
    "\n",
    "print(df_route)\n",
    "print()\n",
    "\n",
    "trans_route_new = pd.read_csv('./data/trans_route_new.csv', index_col= '공장')\n",
    "print(trans_route_new)\n",
    "print()\n",
    "\n",
    "print('이전 운송 경로 총 비용 :', total_trans_cost(df_route, df_cost))\n",
    "print('변경된 운송 경로의 총 비용 : ', total_trans_cost(trans_route_new, df_cost))\n",
    "print()\n",
    "\n",
    "supply_check(trans_route_new, supply)\n",
    "demand_check(trans_route_new, demand)"
   ]
  },
  {
   "cell_type": "code",
   "execution_count": 27,
   "id": "7292babc",
   "metadata": {},
   "outputs": [
    {
     "data": {
      "text/plain": [
       "array([0., 0., 0., 0.])"
      ]
     },
     "execution_count": 27,
     "metadata": {},
     "output_type": "execute_result"
    }
   ],
   "source": [
    "flag = np.zeros(len(demand.columns))\n",
    "flag"
   ]
  },
  {
   "cell_type": "code",
   "execution_count": 28,
   "id": "b1c6b567",
   "metadata": {},
   "outputs": [
    {
     "name": "stdout",
     "output_type": "stream",
     "text": [
      "수요 조건 계산 결과 : [1. 1. 1. 1.]  cf) 1 : 수요 충족 / 0 : 수요량 미충족\n",
      "공급 조건 계산 결과 : [1. 0. 1.]  cf) 1: 공급 한계 내 / 0 : 공급 한계 초과\n"
     ]
    }
   ],
   "source": [
    "# 제약 조건 계산 함수\n",
    "\n",
    "# 1) 수요\n",
    "def condition_demand(trans_route_df : pd.DataFrame, demand_df : pd.DataFrame) :\n",
    "  flag = np.zeros(len(demand_df.columns))\n",
    "  for i in range(len(demand_df.columns)) :\n",
    "    factory_nm = demand_df.columns[i]\n",
    "    trans_quantity = trans_route_df[factory_nm].sum()\n",
    "    if trans_quantity >= demand_df.loc[0, factory_nm] :\n",
    "      flag[i] = 1 # 범위 내\n",
    "  return flag\n",
    "\n",
    "res_demand = condition_demand(trans_route_new, demand)\n",
    "print('수요 조건 계산 결과 : ' + str(res_demand) + '  cf) 1 : 수요 충족 / 0 : 수요량 미충족')\n",
    "\n",
    "# 2) 공급\n",
    "def condition_supply(trans_route_df : pd.DataFrame, supply_df : pd.DataFrame) :\n",
    "  flag = np.zeros(len(supply.columns))\n",
    "  for i in range(len(supply.columns)) :\n",
    "    warehouse_nm = supply.columns[i]\n",
    "    supply_quantity = trans_route_df.loc[warehouse_nm, :].sum()\n",
    "    if supply_quantity <= supply.loc[0, warehouse_nm] :\n",
    "      flag[i] = 1 # 범위 내 \n",
    "  return flag\n",
    "\n",
    "res_supply = condition_supply(trans_route_new, supply)\n",
    "print('공급 조건 계산 결과 : ' + str(res_supply) + '  cf) 1: 공급 한계 내 / 0 : 공급 한계 초과')\n"
   ]
  },
  {
   "cell_type": "markdown",
   "id": "92edd784",
   "metadata": {},
   "source": [
    "trans_route_new는 W1에서 F4로의 운송을 줄이고 그만큼을 W2에서 F4로의 운송을 보충하는 것입니다.             \n",
    "이것에 의해 운송 비용은 1428(만 원)으로 원래 운송 비용 1493(만 원)과 비교하면 약간의 비용 절감을 기대할 수 있습니다.          \n",
    "그렇지만 공급 조건을 만족시키지 못해 W2의 공급 한계를 넘어버린 것을 알 수 있습니다."
   ]
  },
  {
   "cell_type": "markdown",
   "id": "8a5fe834",
   "metadata": {},
   "source": [
    "> 지금까지 네트워크 가시화에 대해 배우고 최적의 물류 계획을 세우기 위한 흐름을 배웠습니다.         \n",
    "다음 장에서는 라이브러리를 사용해 최적 계산 방법을 배우고 물류 네트워크 전체의 최적화를 검토합니다."
   ]
  },
  {
   "cell_type": "markdown",
   "id": "fc69408b",
   "metadata": {},
   "source": [
    "### 물류 네트워크 최적 설계"
   ]
  },
  {
   "cell_type": "markdown",
   "id": "3f8d58ad",
   "metadata": {},
   "source": [
    "\"당신이 가지고 있는 데이터 분석 기술을 이용해서 우리 회사의 경영 환경을 개선해주세요.\" 라는 의뢰를 받으면 당신은 먼저 필요한 데이터를 수집하고 그것을 가시화할 것입니다.         \n",
    "대리점이라면 1년간의 매출 상황을 가시화하고 잘 팔리는 것과 그렇지 않은 것에 대한 원인 분석을 할 것입니다. 그리고 최적화 계산으로 매출을 올리기 위한 방법을 검토할 것입니다.              \n",
    "            \n",
    "그렇지만 '물류 네트워크'가 포함된 경영 전반 업무가 되면 문제가 갑자기 복잡해집니다. 앞장에서 배운 네트워크 가시화나 운송 최적화 검토만으로는 충분하지 않습니다. 개별 최적화뿐 아니라 <u>물류 네트워크 전체의 최적화</u>가 필요합니다.         \n",
    "                \n",
    "몇 개의 라이브러리를 이용해 최적화 계산을 진행한 후 앞장에서의 네트워크 가시화 기술로 계산 결과의 타당성을 확인하는 방법을 배웁니다."
   ]
  },
  {
   "cell_type": "markdown",
   "id": "1b5004bb",
   "metadata": {},
   "source": [
    "고객의 소리) 우리 회사의 제조에서 물류까지의 전체 흐름 중 <u>어디에 비용 개선 가능성이 있는지</u> 분석해 주셨으면 합니다."
   ]
  },
  {
   "cell_type": "markdown",
   "id": "3c417997",
   "metadata": {},
   "source": [
    "전제 조건)           \n",
    "제품을 판매하는 대리접(P, Q)         \n",
    "판매되는 상품군 (제품 A, B)           \n",
    "예측된 일정 수요        \n",
    "공장 X, Y           \n",
    "생산 라인 (레인 0, 1)                  \n"
   ]
  },
  {
   "cell_type": "code",
   "execution_count": 29,
   "id": "ecf4c479",
   "metadata": {},
   "outputs": [
    {
     "name": "stdout",
     "output_type": "stream",
     "text": [
      "Requirement already satisfied: pulp in c:\\users\\lgcare\\appdata\\local\\packages\\pythonsoftwarefoundation.python.3.11_qbz5n2kfra8p0\\localcache\\local-packages\\python311\\site-packages (2.9.0)\n"
     ]
    },
    {
     "name": "stderr",
     "output_type": "stream",
     "text": [
      "\n",
      "[notice] A new release of pip is available: 24.0 -> 25.1.1\n",
      "[notice] To update, run: C:\\Users\\LGCARE\\AppData\\Local\\Microsoft\\WindowsApps\\PythonSoftwareFoundation.Python.3.11_qbz5n2kfra8p0\\python.exe -m pip install --upgrade pip\n"
     ]
    }
   ],
   "source": [
    "!pip install pulp"
   ]
  },
  {
   "cell_type": "code",
   "execution_count": 30,
   "id": "1418dfd6",
   "metadata": {},
   "outputs": [
    {
     "name": "stdout",
     "output_type": "stream",
     "text": [
      "Requirement already satisfied: ortoolpy in c:\\users\\lgcare\\appdata\\local\\packages\\pythonsoftwarefoundation.python.3.11_qbz5n2kfra8p0\\localcache\\local-packages\\python311\\site-packages (0.6.4)\n",
      "Requirement already satisfied: more-itertools<11.0,>=10.1 in c:\\users\\lgcare\\appdata\\local\\packages\\pythonsoftwarefoundation.python.3.11_qbz5n2kfra8p0\\localcache\\local-packages\\python311\\site-packages (from ortoolpy) (10.7.0)\n",
      "Requirement already satisfied: pandas>=1.5.3 in c:\\users\\lgcare\\appdata\\local\\packages\\pythonsoftwarefoundation.python.3.11_qbz5n2kfra8p0\\localcache\\local-packages\\python311\\site-packages (from ortoolpy) (2.2.3)\n",
      "Requirement already satisfied: pulp<3.0,>=2.7 in c:\\users\\lgcare\\appdata\\local\\packages\\pythonsoftwarefoundation.python.3.11_qbz5n2kfra8p0\\localcache\\local-packages\\python311\\site-packages (from ortoolpy) (2.9.0)\n",
      "Requirement already satisfied: numpy>=1.23.2 in c:\\users\\lgcare\\appdata\\local\\packages\\pythonsoftwarefoundation.python.3.11_qbz5n2kfra8p0\\localcache\\local-packages\\python311\\site-packages (from pandas>=1.5.3->ortoolpy) (2.2.4)\n",
      "Requirement already satisfied: python-dateutil>=2.8.2 in c:\\users\\lgcare\\appdata\\local\\packages\\pythonsoftwarefoundation.python.3.11_qbz5n2kfra8p0\\localcache\\local-packages\\python311\\site-packages (from pandas>=1.5.3->ortoolpy) (2.9.0.post0)\n",
      "Requirement already satisfied: pytz>=2020.1 in c:\\users\\lgcare\\appdata\\local\\packages\\pythonsoftwarefoundation.python.3.11_qbz5n2kfra8p0\\localcache\\local-packages\\python311\\site-packages (from pandas>=1.5.3->ortoolpy) (2025.1)\n",
      "Requirement already satisfied: tzdata>=2022.7 in c:\\users\\lgcare\\appdata\\local\\packages\\pythonsoftwarefoundation.python.3.11_qbz5n2kfra8p0\\localcache\\local-packages\\python311\\site-packages (from pandas>=1.5.3->ortoolpy) (2025.2)\n",
      "Requirement already satisfied: six>=1.5 in c:\\users\\lgcare\\appdata\\local\\packages\\pythonsoftwarefoundation.python.3.11_qbz5n2kfra8p0\\localcache\\local-packages\\python311\\site-packages (from python-dateutil>=2.8.2->pandas>=1.5.3->ortoolpy) (1.17.0)\n"
     ]
    },
    {
     "name": "stderr",
     "output_type": "stream",
     "text": [
      "\n",
      "[notice] A new release of pip is available: 24.0 -> 25.1.1\n",
      "[notice] To update, run: C:\\Users\\LGCARE\\AppData\\Local\\Microsoft\\WindowsApps\\PythonSoftwareFoundation.Python.3.11_qbz5n2kfra8p0\\python.exe -m pip install --upgrade pip\n"
     ]
    }
   ],
   "source": [
    "!pip install ortoolpy"
   ]
  },
  {
   "cell_type": "code",
   "execution_count": null,
   "id": "16cd82b5",
   "metadata": {},
   "outputs": [],
   "source": [
    "# pulp : 최적화 모델 작성\n",
    "# ortoolpy : 목적함수를 생성해 최적화 문제를 푸는 역할\n",
    "\n",
    "import numpy as np \n",
    "import pandas as pd \n",
    "from itertools import product \n",
    "from pulp import LpVariable, lpSum, value \n",
    "from ortoolpy import model_min, addvars, addvals\n",
    "\n",
    "# LP : Linear Programming(선형 계획법)\n",
    "# 1) 변수 정의 \n",
    "# x1 = pulp.LpVariable('x1', lowBound= 0) \n",
    "\n",
    "# 2) 모델 정의\n",
    "# model = pulp.LpProblem('test_lp', pulp.LpMinimize)\n",
    "\n",
    "# 3) 목적 함수 정의(6x1 + 4x2 + 2x3)\n",
    "# model += 6*x1 + 4*x2 + 2*x3\n",
    "\n",
    "# 4) 제약 조건\n",
    "# model += 4 * x1 + 2 * x2 + x3 >= 5 ,,\n",
    "\n",
    "# 5) 풀기\n",
    "# model.solve()\n",
    "\n",
    "# 6) 최적값/최적해\n",
    "# pulp.value(model.objective)\n",
    "# x1.varValue\n",
    "\n",
    "\n",
    "# 변수 여러개\n",
    "# idxlist = [i + 1 for i in range(n)]\n",
    "# x = pulp.LpVariable.dicts('x', idxlist, lowBound=0)\n",
    "# x[1] + x[3] + x[7] >= 6 - 사용 방법\n",
    "\n",
    "\n",
    "# lpSum([o[j] * x[j] for j in idxlist]) <=> sigma j부터 n까지 cj * xj\n"
   ]
  },
  {
   "cell_type": "code",
   "execution_count": 32,
   "id": "bda0649a",
   "metadata": {},
   "outputs": [
    {
     "name": "stdout",
     "output_type": "stream",
     "text": [
      "    F1  F2  F3  F4\n",
      "공장                \n",
      "W1  10  10  11  27\n",
      "W2  18  21  12  14\n",
      "W3  15  12  14  12\n",
      "\n",
      "   F1  F2  F3  F4\n",
      "0  28  29  31  25\n",
      "\n",
      "   W1  W2  W3\n",
      "0  35  41  42\n"
     ]
    }
   ],
   "source": [
    "df_transcost = pd.read_csv('./data/trans_cost.csv', index_col= '공장')\n",
    "df_demand = pd.read_csv('./data/demand.csv')\n",
    "df_supply = pd.read_csv('./data/supply.csv')\n",
    "\n",
    "print(df_transcost) # 운송 비용\n",
    "print()\n",
    "print(df_demand)\n",
    "print()\n",
    "print(df_supply)\n"
   ]
  },
  {
   "cell_type": "code",
   "execution_count": null,
   "id": "29cc3a7f",
   "metadata": {},
   "outputs": [
    {
     "name": "stderr",
     "output_type": "stream",
     "text": [
      "C:\\Users\\LGCARE\\AppData\\Local\\Temp\\ipykernel_4220\\895076405.py:18: FutureWarning: Series.__getitem__ treating keys as positions is deprecated. In a future version, integer keys will always be treated as labels (consistent with DataFrame behavior). To access a value by position, use `ser.iloc[pos]`\n",
      "  opt_min_model += lpSum(df_transcost.iloc[i][j] * xi_j[i,j] for i, j in matrix_coordinate)\n",
      "C:\\Users\\LGCARE\\AppData\\Local\\Temp\\ipykernel_4220\\895076405.py:23: FutureWarning: Series.__getitem__ treating keys as positions is deprecated. In a future version, integer keys will always be treated as labels (consistent with DataFrame behavior). To access a value by position, use `ser.iloc[pos]`\n",
      "  opt_min_model += lpSum(xi_j[i,j] for j in range(num_factory)) <= df_supply.iloc[0][i]\n",
      "C:\\Users\\LGCARE\\AppData\\Local\\Temp\\ipykernel_4220\\895076405.py:27: FutureWarning: Series.__getitem__ treating keys as positions is deprecated. In a future version, integer keys will always be treated as labels (consistent with DataFrame behavior). To access a value by position, use `ser.iloc[pos]`\n",
      "  opt_min_model += lpSum(xi_j[i,j] for i in range(num_warehouse)) >= df_demand.iloc[0][j]\n"
     ]
    },
    {
     "data": {
      "text/plain": [
       "1"
      ]
     },
     "execution_count": 64,
     "metadata": {},
     "output_type": "execute_result"
    }
   ],
   "source": [
    "# 최적화 함수 실습\n",
    "np.random.seed(1)\n",
    "\n",
    "num_warehouse = len(df_transcost.index)\n",
    "num_factory = len(df_transcost.columns)\n",
    "# matrix_coordinate = [(i,j) for i in range(num_warehouse) for j in range(num_factory)]\n",
    "# print(matrix_coordinate)\n",
    "matrix_coordinate = list(product(range(num_warehouse), range(num_factory)))\n",
    "# print(matrix_coordinate)\n",
    "\n",
    "# 모델 설정\n",
    "opt_min_model = model_min()\n",
    "\n",
    "# 변수 정의 - x(i,j)의 운송량\n",
    "xi_j = {(i,j) : LpVariable('x%d_%d'%(i,j), lowBound=0) for i,j in matrix_coordinate}\n",
    "\n",
    "# 목적 함수 정의\n",
    "opt_min_model += lpSum(df_transcost.iloc[i][j] * xi_j[i,j] for i, j in matrix_coordinate)\n",
    "\n",
    "# 제약 함수 정의\n",
    "# 1) 공급 한계\n",
    "for i in range(num_warehouse) :\n",
    "  opt_min_model += lpSum(xi_j[i,j] for j in range(num_factory)) <= df_supply.iloc[0][i]\n",
    "\n",
    "# 2) 수요\n",
    "for j in range(num_factory) :\n",
    "  opt_min_model += lpSum(xi_j[i,j] for i in range(num_warehouse)) >= df_demand.iloc[0][j]\n",
    "\n",
    "# 변수 xi_j가 최적화\n",
    "opt_min_model.solve()"
   ]
  },
  {
   "cell_type": "code",
   "execution_count": null,
   "id": "1b33b6b5",
   "metadata": {},
   "outputs": [
    {
     "name": "stdout",
     "output_type": "stream",
     "text": [
      "총 운송 비용 : 1296.0\n"
     ]
    },
    {
     "name": "stderr",
     "output_type": "stream",
     "text": [
      "C:\\Users\\LGCARE\\AppData\\Local\\Temp\\ipykernel_4220\\1388332618.py:7: FutureWarning: ChainedAssignmentError: behaviour will change in pandas 3.0!\n",
      "You are setting values through chained assignment. Currently this works in certain cases, but when using Copy-on-Write (which will become the default behaviour in pandas 3.0) this will never work to update the original DataFrame or Series, because the intermediate object on which we are setting values will behave as a copy.\n",
      "A typical example is when you are setting values in a column of a DataFrame, like:\n",
      "\n",
      "df[\"col\"][row_indexer] = value\n",
      "\n",
      "Use `df.loc[row_indexer, \"col\"] = values` instead, to perform the assignment in a single step and ensure this keeps updating the original `df`.\n",
      "\n",
      "See the caveats in the documentation: https://pandas.pydata.org/pandas-docs/stable/user_guide/indexing.html#returning-a-view-versus-a-copy\n",
      "\n",
      "  df_opt_trans_quantity.iloc[i][j] = value(x) # v0_0의 최적값\n",
      "C:\\Users\\LGCARE\\AppData\\Local\\Temp\\ipykernel_4220\\1388332618.py:7: FutureWarning: Series.__setitem__ treating keys as positions is deprecated. In a future version, integer keys will always be treated as labels (consistent with DataFrame behavior). To set a value by position, use `ser.iloc[pos] = value`\n",
      "  df_opt_trans_quantity.iloc[i][j] = value(x) # v0_0의 최적값\n",
      "C:\\Users\\LGCARE\\AppData\\Local\\Temp\\ipykernel_4220\\1388332618.py:8: FutureWarning: Series.__getitem__ treating keys as positions is deprecated. In a future version, integer keys will always be treated as labels (consistent with DataFrame behavior). To access a value by position, use `ser.iloc[pos]`\n",
      "  total_cost += (df_transcost.iloc[i][j]) * value(x)\n"
     ]
    }
   ],
   "source": [
    "# 최적해의 총 운송 비용 계산\n",
    "\n",
    "df_opt_trans_quantity = df_transcost.copy()\n",
    "total_cost = 0\n",
    "for key, x in xi_j.items() : # k : (0,0), x : v0_0\n",
    "  i, j = key[0], key[1]\n",
    "  df_opt_trans_quantity.iloc[i][j] = value(x) # v0_0의 최적값\n",
    "  total_cost += (df_transcost.iloc[i][j]) * value(x)\n",
    "\n",
    "print('총 운송 비용 : ' + str(total_cost))\n",
    "# 1296만원으로 기존 1433만원과 비교할 때 비용이 크게 절감됨"
   ]
  },
  {
   "cell_type": "markdown",
   "id": "a1f4e4a2",
   "metadata": {},
   "source": [
    "### 최적 운송 경로 네트워크 가시화"
   ]
  },
  {
   "cell_type": "code",
   "execution_count": null,
   "id": "2ad65278",
   "metadata": {},
   "outputs": [],
   "source": []
  },
  {
   "cell_type": "code",
   "execution_count": null,
   "id": "f4a66aa1",
   "metadata": {},
   "outputs": [],
   "source": [
    "# 책)\n",
    "\n",
    "# 초기 설정\n",
    "np.random.seed(1)\n",
    "\n",
    "num_warehouse = len(df_transcost.index)\n",
    "num_factory = len(df_transcost.columns)\n",
    "pr = list(product(range(num_warehouse), range(num_factory))) # list(행, 열) > 행 : warehouse(0~2), 열 : factory(0~3)\n",
    "# pr : [(0, 0), (0, 1), ,,,(2, 3)]\n",
    "\n",
    "# 수리 모델 작성\n",
    "# 최소화를 실행하는 모델 'model_1'\n",
    "# 정의된 목적함수를 제약 조건 하에서 '최소화'할 수 있습니다.\n",
    "model_1 = model_min()\n",
    "\n",
    "# 변수 정의\n",
    "# 변수 vi,j : 운송량 > 최적해 : 최적의 운송량\n",
    "# v1 : {(0, 0) : v0_0, (0, 1) : v0_1, ,,, (2, 3) : v2_3} > 변수 총 6개(vi,j)\n",
    "v1 = {(i, j) : LpVariable('v%d_%d'%(i,j), lowBound= 0) for i, j in pr} \n",
    "\n",
    "# 목적 함수 정의\n",
    "# 각 운송 경로의 비용 * 변수 vi,j(운송량) - 각 요소의 곱의 합\n",
    "model_1 += lpSum(df_transcost.iloc[i][j] * v1[(i, j)] for i, j in pr) \n",
    "\n",
    "# 제약 조건 추가\n",
    "# i=0일때 창고0으로부터 공장j까지의 총 운송량이 창고0의 공급한계를 넘어선 안됨\n",
    "for i in range(num_warehouse) :\n",
    "  model_1 += lpSum(v1[i,j] for j in range(num_factory)) <= df_supply.iloc[0][i] # 공장이 제조할 제품 수요량 만족하는 제약 조건\n",
    "\n",
    "# j=0일때 창고i로부터 공장0까지의 총 운송량이 공장0의 수요를 넘어야 함\n",
    "for j in range(num_factory) :\n",
    "  model_1 += lpSum(v1[i, j] for i in range(num_warehouse)) >= df_demand.iloc[0][j] # 창고가 제공할 부품이 제공 한계를 넘지 않는 제약 조건\n",
    "\n",
    "# 주어진 조건 하 목적 함수 해결 > v1이 최적화되고 최적의 총 운송 비용이 구해짐\n",
    "model_1.solve() \n"
   ]
  }
 ],
 "metadata": {
  "kernelspec": {
   "display_name": "Python 3",
   "language": "python",
   "name": "python3"
  },
  "language_info": {
   "codemirror_mode": {
    "name": "ipython",
    "version": 3
   },
   "file_extension": ".py",
   "mimetype": "text/x-python",
   "name": "python",
   "nbconvert_exporter": "python",
   "pygments_lexer": "ipython3",
   "version": "3.11.9"
  }
 },
 "nbformat": 4,
 "nbformat_minor": 5
}
