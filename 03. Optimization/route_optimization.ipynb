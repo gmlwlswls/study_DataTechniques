{
 "cells": [
  {
   "cell_type": "markdown",
   "id": "431b2c0c",
   "metadata": {},
   "source": [
    "### 물류의 최적화 경로\n",
    ": 물류의 최적 경로를 컨설팅하는 테크닉 10"
   ]
  },
  {
   "cell_type": "markdown",
   "id": "0eb9a553",
   "metadata": {},
   "source": [
    "당신은 어떤 기업의 창고에 있습니다. \n",
    "1) 그 창고에는 1만 개의 상품 재고가 보관되어 있습니다. \n",
    "2) 상품은 전국 대리점에서 판매됩니다. \n",
    "3) 이 기업은 이 창고뿐만 아니라 전국에 창고가 흩어져 있습니다. \n",
    "4) 더 복잡한 것은 전국 여러 공장에서 생산된 상품이 각각의 창고에 도착한다는 사실입니다.             \n",
    "> 이렇게 전국으로 상품을 판매하는 기업에게 어디에서 어느 정도의 상품을 생산하고 어느 창고에 재고를 보관하고 어느 대리점에 몇 개의 상품을 배송하는가 하는 '물류'(물건의 흐름 제어)는 상품의 매출을 좌우하는 생명선이라고 할 수 있습니다."
   ]
  },
  {
   "cell_type": "markdown",
   "id": "efd0795d",
   "metadata": {},
   "source": [
    "'물류'의 개념은 대리점뿐 아니라 많은 업계에 응용할 수 있습니다. \n",
    "1. 보험 회사라면 영업 사원이 어떤 경로로 영업해야 하는지\n",
    "2. 택시 회사라면 어떤 경로에 각각의 택시를 배차할 것인가의 계획에 이용할 수 있습니다. "
   ]
  },
  {
   "cell_type": "markdown",
   "id": "dd028129",
   "metadata": {},
   "source": [
    "이 장에서는 '물류'의 기초가 되는 '운송최적화'를 검토하고 기초적인 기술을 배웁니다. \n",
    "> 실제 물류 데이터로부터 <b><u>네트워크 구조를 가시화하는 방법을 배우고 최적 물류 계획을 세우</b></u>는 흐름을 배웁니다."
   ]
  },
  {
   "cell_type": "markdown",
   "id": "14781364",
   "metadata": {},
   "source": [
    "고객의 소리) 우리 회사는 제품의 제조에서 물류까지 도맡아 하고 있습니다. 최근 회사 이익이 감소하고 있어 <b><u>물류비용을 줄이고 효율화</b></u>를 생각하고 있습니다. 먼저 제품의 부품을 보관하는 창고에서 생산 공장까지 운송 비용을 낮출 수 있을지 분석을 부탁드립니다."
   ]
  },
  {
   "cell_type": "markdown",
   "id": "fffd4bc0",
   "metadata": {},
   "source": [
    "[전제조건]             \n",
    "북부 지사와 남부 지사의 데이터를 시스템에서 추출해 CSV로 제공합니다.      \n",
    "                          \n",
    "집계 기간) 2019년 1월 1일 ~ 2019년 12월 31일             \n",
    "                    \n",
    "tbl_factory.csv : 생산 공장 데이터            \n",
    "tbl_warehouse.csv : 창고 데이터            \n",
    "rel_cost.csv : 창고와 공장 간의 운송 비용              \n",
    "tbl_transaction.csv : 2019년의 공장으로의 부품 운송 실적        "
   ]
  },
  {
   "cell_type": "markdown",
   "id": "35cf59ee",
   "metadata": {},
   "source": [
    "#### 1. 데이터 불러오기"
   ]
  },
  {
   "cell_type": "markdown",
   "id": "92592b68",
   "metadata": {},
   "source": [
    "* 각 FCID, WHID, RCostID, TRID는 키"
   ]
  },
  {
   "cell_type": "code",
   "execution_count": 1,
   "id": "b558eed9",
   "metadata": {},
   "outputs": [
    {
     "data": {
      "text/html": [
       "<div>\n",
       "<style scoped>\n",
       "    .dataframe tbody tr th:only-of-type {\n",
       "        vertical-align: middle;\n",
       "    }\n",
       "\n",
       "    .dataframe tbody tr th {\n",
       "        vertical-align: top;\n",
       "    }\n",
       "\n",
       "    .dataframe thead th {\n",
       "        text-align: right;\n",
       "    }\n",
       "</style>\n",
       "<table border=\"1\" class=\"dataframe\">\n",
       "  <thead>\n",
       "    <tr style=\"text-align: right;\">\n",
       "      <th></th>\n",
       "      <th>FCName</th>\n",
       "      <th>FCDemand</th>\n",
       "      <th>FCRegion</th>\n",
       "    </tr>\n",
       "    <tr>\n",
       "      <th>FCID</th>\n",
       "      <th></th>\n",
       "      <th></th>\n",
       "      <th></th>\n",
       "    </tr>\n",
       "  </thead>\n",
       "  <tbody>\n",
       "    <tr>\n",
       "      <th>FC00001</th>\n",
       "      <td>서울공장</td>\n",
       "      <td>28</td>\n",
       "      <td>북부</td>\n",
       "    </tr>\n",
       "    <tr>\n",
       "      <th>FC00002</th>\n",
       "      <td>수원공장</td>\n",
       "      <td>29</td>\n",
       "      <td>북부</td>\n",
       "    </tr>\n",
       "    <tr>\n",
       "      <th>FC00003</th>\n",
       "      <td>인천공장</td>\n",
       "      <td>31</td>\n",
       "      <td>북부</td>\n",
       "    </tr>\n",
       "    <tr>\n",
       "      <th>FC00004</th>\n",
       "      <td>대전공장</td>\n",
       "      <td>25</td>\n",
       "      <td>북부</td>\n",
       "    </tr>\n",
       "    <tr>\n",
       "      <th>FC00005</th>\n",
       "      <td>대구공장</td>\n",
       "      <td>21</td>\n",
       "      <td>남부</td>\n",
       "    </tr>\n",
       "  </tbody>\n",
       "</table>\n",
       "</div>"
      ],
      "text/plain": [
       "        FCName  FCDemand FCRegion\n",
       "FCID                             \n",
       "FC00001   서울공장        28       북부\n",
       "FC00002   수원공장        29       북부\n",
       "FC00003   인천공장        31       북부\n",
       "FC00004   대전공장        25       북부\n",
       "FC00005   대구공장        21       남부"
      ]
     },
     "execution_count": 1,
     "metadata": {},
     "output_type": "execute_result"
    }
   ],
   "source": [
    "# 물류 데이터 불러오기\n",
    "import pandas as pd\n",
    "\n",
    "factory = pd.read_csv('./data/tbl_factory.csv', index_col= 0)\n",
    "factory.head()"
   ]
  },
  {
   "cell_type": "code",
   "execution_count": 2,
   "id": "03bbe3b5",
   "metadata": {},
   "outputs": [
    {
     "data": {
      "text/html": [
       "<div>\n",
       "<style scoped>\n",
       "    .dataframe tbody tr th:only-of-type {\n",
       "        vertical-align: middle;\n",
       "    }\n",
       "\n",
       "    .dataframe tbody tr th {\n",
       "        vertical-align: top;\n",
       "    }\n",
       "\n",
       "    .dataframe thead th {\n",
       "        text-align: right;\n",
       "    }\n",
       "</style>\n",
       "<table border=\"1\" class=\"dataframe\">\n",
       "  <thead>\n",
       "    <tr style=\"text-align: right;\">\n",
       "      <th></th>\n",
       "      <th>WHName</th>\n",
       "      <th>WHSupply</th>\n",
       "      <th>WHRegion</th>\n",
       "    </tr>\n",
       "    <tr>\n",
       "      <th>WHID</th>\n",
       "      <th></th>\n",
       "      <th></th>\n",
       "      <th></th>\n",
       "    </tr>\n",
       "  </thead>\n",
       "  <tbody>\n",
       "    <tr>\n",
       "      <th>WH00001</th>\n",
       "      <td>판교창고</td>\n",
       "      <td>35</td>\n",
       "      <td>북부</td>\n",
       "    </tr>\n",
       "    <tr>\n",
       "      <th>WH00002</th>\n",
       "      <td>용인창고</td>\n",
       "      <td>41</td>\n",
       "      <td>북부</td>\n",
       "    </tr>\n",
       "    <tr>\n",
       "      <th>WH00003</th>\n",
       "      <td>수원창고</td>\n",
       "      <td>42</td>\n",
       "      <td>북부</td>\n",
       "    </tr>\n",
       "    <tr>\n",
       "      <th>WH00004</th>\n",
       "      <td>대전창고</td>\n",
       "      <td>60</td>\n",
       "      <td>남부</td>\n",
       "    </tr>\n",
       "    <tr>\n",
       "      <th>WH00005</th>\n",
       "      <td>대구창고</td>\n",
       "      <td>72</td>\n",
       "      <td>남부</td>\n",
       "    </tr>\n",
       "  </tbody>\n",
       "</table>\n",
       "</div>"
      ],
      "text/plain": [
       "        WHName  WHSupply WHRegion\n",
       "WHID                             \n",
       "WH00001   판교창고        35       북부\n",
       "WH00002   용인창고        41       북부\n",
       "WH00003   수원창고        42       북부\n",
       "WH00004   대전창고        60       남부\n",
       "WH00005   대구창고        72       남부"
      ]
     },
     "execution_count": 2,
     "metadata": {},
     "output_type": "execute_result"
    }
   ],
   "source": [
    "warehouse = pd.read_csv('./data/tbl_warehouse.csv', index_col= 0)\n",
    "warehouse.head()"
   ]
  },
  {
   "cell_type": "code",
   "execution_count": 3,
   "id": "9ae08dc7",
   "metadata": {},
   "outputs": [
    {
     "data": {
      "text/html": [
       "<div>\n",
       "<style scoped>\n",
       "    .dataframe tbody tr th:only-of-type {\n",
       "        vertical-align: middle;\n",
       "    }\n",
       "\n",
       "    .dataframe tbody tr th {\n",
       "        vertical-align: top;\n",
       "    }\n",
       "\n",
       "    .dataframe thead th {\n",
       "        text-align: right;\n",
       "    }\n",
       "</style>\n",
       "<table border=\"1\" class=\"dataframe\">\n",
       "  <thead>\n",
       "    <tr style=\"text-align: right;\">\n",
       "      <th></th>\n",
       "      <th>FCID</th>\n",
       "      <th>WHID</th>\n",
       "      <th>Cost</th>\n",
       "    </tr>\n",
       "    <tr>\n",
       "      <th>RCostID</th>\n",
       "      <th></th>\n",
       "      <th></th>\n",
       "      <th></th>\n",
       "    </tr>\n",
       "  </thead>\n",
       "  <tbody>\n",
       "    <tr>\n",
       "      <th>1</th>\n",
       "      <td>FC00001</td>\n",
       "      <td>WH00001</td>\n",
       "      <td>0.4</td>\n",
       "    </tr>\n",
       "    <tr>\n",
       "      <th>2</th>\n",
       "      <td>FC00001</td>\n",
       "      <td>WH00002</td>\n",
       "      <td>0.8</td>\n",
       "    </tr>\n",
       "    <tr>\n",
       "      <th>3</th>\n",
       "      <td>FC00001</td>\n",
       "      <td>WH00003</td>\n",
       "      <td>1.5</td>\n",
       "    </tr>\n",
       "    <tr>\n",
       "      <th>4</th>\n",
       "      <td>FC00002</td>\n",
       "      <td>WH00001</td>\n",
       "      <td>0.9</td>\n",
       "    </tr>\n",
       "    <tr>\n",
       "      <th>5</th>\n",
       "      <td>FC00002</td>\n",
       "      <td>WH00002</td>\n",
       "      <td>0.8</td>\n",
       "    </tr>\n",
       "  </tbody>\n",
       "</table>\n",
       "</div>"
      ],
      "text/plain": [
       "            FCID     WHID  Cost\n",
       "RCostID                        \n",
       "1        FC00001  WH00001   0.4\n",
       "2        FC00001  WH00002   0.8\n",
       "3        FC00001  WH00003   1.5\n",
       "4        FC00002  WH00001   0.9\n",
       "5        FC00002  WH00002   0.8"
      ]
     },
     "execution_count": 3,
     "metadata": {},
     "output_type": "execute_result"
    }
   ],
   "source": [
    "trans_cost = pd.read_csv('./data/rel_cost.csv', index_col= 0)\n",
    "trans_cost.head()"
   ]
  },
  {
   "cell_type": "code",
   "execution_count": 4,
   "id": "56ca666f",
   "metadata": {},
   "outputs": [
    {
     "data": {
      "text/html": [
       "<div>\n",
       "<style scoped>\n",
       "    .dataframe tbody tr th:only-of-type {\n",
       "        vertical-align: middle;\n",
       "    }\n",
       "\n",
       "    .dataframe tbody tr th {\n",
       "        vertical-align: top;\n",
       "    }\n",
       "\n",
       "    .dataframe thead th {\n",
       "        text-align: right;\n",
       "    }\n",
       "</style>\n",
       "<table border=\"1\" class=\"dataframe\">\n",
       "  <thead>\n",
       "    <tr style=\"text-align: right;\">\n",
       "      <th></th>\n",
       "      <th>TransactionDate</th>\n",
       "      <th>ToFC</th>\n",
       "      <th>FromWH</th>\n",
       "      <th>Quantity</th>\n",
       "    </tr>\n",
       "    <tr>\n",
       "      <th>TRID</th>\n",
       "      <th></th>\n",
       "      <th></th>\n",
       "      <th></th>\n",
       "      <th></th>\n",
       "    </tr>\n",
       "  </thead>\n",
       "  <tbody>\n",
       "    <tr>\n",
       "      <th>0</th>\n",
       "      <td>2019-01-01 02:11:10</td>\n",
       "      <td>FC00004</td>\n",
       "      <td>WH00003</td>\n",
       "      <td>33</td>\n",
       "    </tr>\n",
       "    <tr>\n",
       "      <th>1</th>\n",
       "      <td>2019-01-01 06:12:42</td>\n",
       "      <td>FC00007</td>\n",
       "      <td>WH00006</td>\n",
       "      <td>19</td>\n",
       "    </tr>\n",
       "    <tr>\n",
       "      <th>2</th>\n",
       "      <td>2019-01-01 06:32:32</td>\n",
       "      <td>FC00006</td>\n",
       "      <td>WH00004</td>\n",
       "      <td>31</td>\n",
       "    </tr>\n",
       "    <tr>\n",
       "      <th>3</th>\n",
       "      <td>2019-01-01 07:17:06</td>\n",
       "      <td>FC00002</td>\n",
       "      <td>WH00003</td>\n",
       "      <td>18</td>\n",
       "    </tr>\n",
       "    <tr>\n",
       "      <th>4</th>\n",
       "      <td>2019-01-01 07:52:18</td>\n",
       "      <td>FC00001</td>\n",
       "      <td>WH00002</td>\n",
       "      <td>30</td>\n",
       "    </tr>\n",
       "  </tbody>\n",
       "</table>\n",
       "</div>"
      ],
      "text/plain": [
       "          TransactionDate     ToFC   FromWH  Quantity\n",
       "TRID                                                 \n",
       "0     2019-01-01 02:11:10  FC00004  WH00003        33\n",
       "1     2019-01-01 06:12:42  FC00007  WH00006        19\n",
       "2     2019-01-01 06:32:32  FC00006  WH00004        31\n",
       "3     2019-01-01 07:17:06  FC00002  WH00003        18\n",
       "4     2019-01-01 07:52:18  FC00001  WH00002        30"
      ]
     },
     "execution_count": 4,
     "metadata": {},
     "output_type": "execute_result"
    }
   ],
   "source": [
    "transaction = pd.read_csv('./data/tbl_transaction.csv', index_col= 0)\n",
    "transaction.head()"
   ]
  },
  {
   "cell_type": "markdown",
   "id": "503604bb",
   "metadata": {},
   "source": [
    "데이터 분석의 기초가 될 데이터는 운송 실적이므로 이를 중심으로 정보를 결합"
   ]
  },
  {
   "cell_type": "code",
   "execution_count": 5,
   "id": "c96039eb",
   "metadata": {},
   "outputs": [
    {
     "data": {
      "text/html": [
       "<div>\n",
       "<style scoped>\n",
       "    .dataframe tbody tr th:only-of-type {\n",
       "        vertical-align: middle;\n",
       "    }\n",
       "\n",
       "    .dataframe tbody tr th {\n",
       "        vertical-align: top;\n",
       "    }\n",
       "\n",
       "    .dataframe thead th {\n",
       "        text-align: right;\n",
       "    }\n",
       "</style>\n",
       "<table border=\"1\" class=\"dataframe\">\n",
       "  <thead>\n",
       "    <tr style=\"text-align: right;\">\n",
       "      <th></th>\n",
       "      <th>TransactionDate</th>\n",
       "      <th>Quantity</th>\n",
       "      <th>Cost</th>\n",
       "      <th>ToFC</th>\n",
       "      <th>FCName</th>\n",
       "      <th>FCDemand</th>\n",
       "      <th>FCRegion</th>\n",
       "      <th>FromWH</th>\n",
       "      <th>WHName</th>\n",
       "      <th>WHSupply</th>\n",
       "      <th>WHRegion</th>\n",
       "    </tr>\n",
       "  </thead>\n",
       "  <tbody>\n",
       "    <tr>\n",
       "      <th>0</th>\n",
       "      <td>2019-01-01 02:11:10</td>\n",
       "      <td>33</td>\n",
       "      <td>1.1</td>\n",
       "      <td>FC00004</td>\n",
       "      <td>대전공장</td>\n",
       "      <td>25</td>\n",
       "      <td>북부</td>\n",
       "      <td>WH00003</td>\n",
       "      <td>수원창고</td>\n",
       "      <td>42</td>\n",
       "      <td>북부</td>\n",
       "    </tr>\n",
       "    <tr>\n",
       "      <th>1</th>\n",
       "      <td>2019-01-01 06:12:42</td>\n",
       "      <td>19</td>\n",
       "      <td>1.3</td>\n",
       "      <td>FC00007</td>\n",
       "      <td>부산공장</td>\n",
       "      <td>25</td>\n",
       "      <td>남부</td>\n",
       "      <td>WH00006</td>\n",
       "      <td>광주창고</td>\n",
       "      <td>65</td>\n",
       "      <td>남부</td>\n",
       "    </tr>\n",
       "    <tr>\n",
       "      <th>2</th>\n",
       "      <td>2019-01-01 06:32:32</td>\n",
       "      <td>31</td>\n",
       "      <td>0.9</td>\n",
       "      <td>FC00006</td>\n",
       "      <td>광주공장</td>\n",
       "      <td>30</td>\n",
       "      <td>남부</td>\n",
       "      <td>WH00004</td>\n",
       "      <td>대전창고</td>\n",
       "      <td>60</td>\n",
       "      <td>남부</td>\n",
       "    </tr>\n",
       "    <tr>\n",
       "      <th>3</th>\n",
       "      <td>2019-01-01 07:17:06</td>\n",
       "      <td>18</td>\n",
       "      <td>1.6</td>\n",
       "      <td>FC00002</td>\n",
       "      <td>수원공장</td>\n",
       "      <td>29</td>\n",
       "      <td>북부</td>\n",
       "      <td>WH00003</td>\n",
       "      <td>수원창고</td>\n",
       "      <td>42</td>\n",
       "      <td>북부</td>\n",
       "    </tr>\n",
       "    <tr>\n",
       "      <th>4</th>\n",
       "      <td>2019-01-01 07:52:18</td>\n",
       "      <td>30</td>\n",
       "      <td>0.8</td>\n",
       "      <td>FC00001</td>\n",
       "      <td>서울공장</td>\n",
       "      <td>28</td>\n",
       "      <td>북부</td>\n",
       "      <td>WH00002</td>\n",
       "      <td>용인창고</td>\n",
       "      <td>41</td>\n",
       "      <td>북부</td>\n",
       "    </tr>\n",
       "  </tbody>\n",
       "</table>\n",
       "</div>"
      ],
      "text/plain": [
       "       TransactionDate  Quantity  Cost     ToFC FCName  FCDemand FCRegion  \\\n",
       "0  2019-01-01 02:11:10        33   1.1  FC00004   대전공장        25       북부   \n",
       "1  2019-01-01 06:12:42        19   1.3  FC00007   부산공장        25       남부   \n",
       "2  2019-01-01 06:32:32        31   0.9  FC00006   광주공장        30       남부   \n",
       "3  2019-01-01 07:17:06        18   1.6  FC00002   수원공장        29       북부   \n",
       "4  2019-01-01 07:52:18        30   0.8  FC00001   서울공장        28       북부   \n",
       "\n",
       "    FromWH WHName  WHSupply WHRegion  \n",
       "0  WH00003   수원창고        42       북부  \n",
       "1  WH00006   광주창고        65       남부  \n",
       "2  WH00004   대전창고        60       남부  \n",
       "3  WH00003   수원창고        42       북부  \n",
       "4  WH00002   용인창고        41       북부  "
      ]
     },
     "execution_count": 5,
     "metadata": {},
     "output_type": "execute_result"
    }
   ],
   "source": [
    "total_trans_cost = trans_cost.merge(right= factory, how= 'left', on= 'FCID')\n",
    "total_trans_cost.head()\n",
    "\n",
    "total_trans_cost = total_trans_cost.merge(right= warehouse, how= 'left', on= 'WHID')\n",
    "total_trans_cost.head()\n",
    "\n",
    "total_transaction = transaction.merge(total_trans_cost, how= 'left', \n",
    "                                      left_on= ['ToFC', 'FromWH'], right_on= ['FCID', 'WHID'])\n",
    "\n",
    "total_transaction.head()\n",
    "# total_transaction = total_transaction[['TransactionDate', 'ToFC', 'FromWH', 'Quantity', 'Cost', \n",
    "#                                        'FCID', 'FCName', 'FCDemand', 'FCRegion',\n",
    "#                                        'WHID', 'WHName', 'WHSupply', 'WHRegion']]\n",
    "\n",
    "total_transaction = total_transaction[['TransactionDate','Quantity', 'Cost', \n",
    "                                       'ToFC', 'FCName', 'FCDemand', 'FCRegion',\n",
    "                                       'FromWH', 'WHName', 'WHSupply', 'WHRegion']] # FCID, WHID 제외\n",
    "\n",
    "total_transaction.head()"
   ]
  },
  {
   "cell_type": "markdown",
   "id": "22dc5153",
   "metadata": {},
   "source": [
    ">> 북부 지사와 남부 지사 비교"
   ]
  },
  {
   "cell_type": "code",
   "execution_count": 6,
   "id": "9b08f4a3",
   "metadata": {},
   "outputs": [
    {
     "data": {
      "text/html": [
       "<div>\n",
       "<style scoped>\n",
       "    .dataframe tbody tr th:only-of-type {\n",
       "        vertical-align: middle;\n",
       "    }\n",
       "\n",
       "    .dataframe tbody tr th {\n",
       "        vertical-align: top;\n",
       "    }\n",
       "\n",
       "    .dataframe thead th {\n",
       "        text-align: right;\n",
       "    }\n",
       "</style>\n",
       "<table border=\"1\" class=\"dataframe\">\n",
       "  <thead>\n",
       "    <tr style=\"text-align: right;\">\n",
       "      <th></th>\n",
       "      <th>TransactionDate</th>\n",
       "      <th>Quantity</th>\n",
       "      <th>Cost</th>\n",
       "      <th>ToFC</th>\n",
       "      <th>FCName</th>\n",
       "      <th>FCDemand</th>\n",
       "      <th>FCRegion</th>\n",
       "      <th>FromWH</th>\n",
       "      <th>WHName</th>\n",
       "      <th>WHSupply</th>\n",
       "      <th>WHRegion</th>\n",
       "    </tr>\n",
       "  </thead>\n",
       "  <tbody>\n",
       "    <tr>\n",
       "      <th>0</th>\n",
       "      <td>2019-01-01 02:11:10</td>\n",
       "      <td>33</td>\n",
       "      <td>1.1</td>\n",
       "      <td>FC00004</td>\n",
       "      <td>대전공장</td>\n",
       "      <td>25</td>\n",
       "      <td>북부</td>\n",
       "      <td>WH00003</td>\n",
       "      <td>수원창고</td>\n",
       "      <td>42</td>\n",
       "      <td>북부</td>\n",
       "    </tr>\n",
       "    <tr>\n",
       "      <th>3</th>\n",
       "      <td>2019-01-01 07:17:06</td>\n",
       "      <td>18</td>\n",
       "      <td>1.6</td>\n",
       "      <td>FC00002</td>\n",
       "      <td>수원공장</td>\n",
       "      <td>29</td>\n",
       "      <td>북부</td>\n",
       "      <td>WH00003</td>\n",
       "      <td>수원창고</td>\n",
       "      <td>42</td>\n",
       "      <td>북부</td>\n",
       "    </tr>\n",
       "    <tr>\n",
       "      <th>4</th>\n",
       "      <td>2019-01-01 07:52:18</td>\n",
       "      <td>30</td>\n",
       "      <td>0.8</td>\n",
       "      <td>FC00001</td>\n",
       "      <td>서울공장</td>\n",
       "      <td>28</td>\n",
       "      <td>북부</td>\n",
       "      <td>WH00002</td>\n",
       "      <td>용인창고</td>\n",
       "      <td>41</td>\n",
       "      <td>북부</td>\n",
       "    </tr>\n",
       "    <tr>\n",
       "      <th>7</th>\n",
       "      <td>2019-01-01 09:09:30</td>\n",
       "      <td>12</td>\n",
       "      <td>1.5</td>\n",
       "      <td>FC00001</td>\n",
       "      <td>서울공장</td>\n",
       "      <td>28</td>\n",
       "      <td>북부</td>\n",
       "      <td>WH00003</td>\n",
       "      <td>수원창고</td>\n",
       "      <td>42</td>\n",
       "      <td>북부</td>\n",
       "    </tr>\n",
       "    <tr>\n",
       "      <th>8</th>\n",
       "      <td>2019-01-01 10:52:55</td>\n",
       "      <td>27</td>\n",
       "      <td>1.5</td>\n",
       "      <td>FC00003</td>\n",
       "      <td>인천공장</td>\n",
       "      <td>31</td>\n",
       "      <td>북부</td>\n",
       "      <td>WH00003</td>\n",
       "      <td>수원창고</td>\n",
       "      <td>42</td>\n",
       "      <td>북부</td>\n",
       "    </tr>\n",
       "  </tbody>\n",
       "</table>\n",
       "</div>"
      ],
      "text/plain": [
       "       TransactionDate  Quantity  Cost     ToFC FCName  FCDemand FCRegion  \\\n",
       "0  2019-01-01 02:11:10        33   1.1  FC00004   대전공장        25       북부   \n",
       "3  2019-01-01 07:17:06        18   1.6  FC00002   수원공장        29       북부   \n",
       "4  2019-01-01 07:52:18        30   0.8  FC00001   서울공장        28       북부   \n",
       "7  2019-01-01 09:09:30        12   1.5  FC00001   서울공장        28       북부   \n",
       "8  2019-01-01 10:52:55        27   1.5  FC00003   인천공장        31       북부   \n",
       "\n",
       "    FromWH WHName  WHSupply WHRegion  \n",
       "0  WH00003   수원창고        42       북부  \n",
       "3  WH00003   수원창고        42       북부  \n",
       "4  WH00002   용인창고        41       북부  \n",
       "7  WH00003   수원창고        42       북부  \n",
       "8  WH00003   수원창고        42       북부  "
      ]
     },
     "execution_count": 6,
     "metadata": {},
     "output_type": "execute_result"
    }
   ],
   "source": [
    "north = total_transaction.loc[total_transaction['WHRegion'] == '북부']\n",
    "north.head()"
   ]
  },
  {
   "cell_type": "code",
   "execution_count": 7,
   "id": "6d10c095",
   "metadata": {},
   "outputs": [
    {
     "data": {
      "text/html": [
       "<div>\n",
       "<style scoped>\n",
       "    .dataframe tbody tr th:only-of-type {\n",
       "        vertical-align: middle;\n",
       "    }\n",
       "\n",
       "    .dataframe tbody tr th {\n",
       "        vertical-align: top;\n",
       "    }\n",
       "\n",
       "    .dataframe thead th {\n",
       "        text-align: right;\n",
       "    }\n",
       "</style>\n",
       "<table border=\"1\" class=\"dataframe\">\n",
       "  <thead>\n",
       "    <tr style=\"text-align: right;\">\n",
       "      <th></th>\n",
       "      <th>TransactionDate</th>\n",
       "      <th>Quantity</th>\n",
       "      <th>Cost</th>\n",
       "      <th>ToFC</th>\n",
       "      <th>FCName</th>\n",
       "      <th>FCDemand</th>\n",
       "      <th>FCRegion</th>\n",
       "      <th>FromWH</th>\n",
       "      <th>WHName</th>\n",
       "      <th>WHSupply</th>\n",
       "      <th>WHRegion</th>\n",
       "    </tr>\n",
       "  </thead>\n",
       "  <tbody>\n",
       "    <tr>\n",
       "      <th>1</th>\n",
       "      <td>2019-01-01 06:12:42</td>\n",
       "      <td>19</td>\n",
       "      <td>1.3</td>\n",
       "      <td>FC00007</td>\n",
       "      <td>부산공장</td>\n",
       "      <td>25</td>\n",
       "      <td>남부</td>\n",
       "      <td>WH00006</td>\n",
       "      <td>광주창고</td>\n",
       "      <td>65</td>\n",
       "      <td>남부</td>\n",
       "    </tr>\n",
       "    <tr>\n",
       "      <th>2</th>\n",
       "      <td>2019-01-01 06:32:32</td>\n",
       "      <td>31</td>\n",
       "      <td>0.9</td>\n",
       "      <td>FC00006</td>\n",
       "      <td>광주공장</td>\n",
       "      <td>30</td>\n",
       "      <td>남부</td>\n",
       "      <td>WH00004</td>\n",
       "      <td>대전창고</td>\n",
       "      <td>60</td>\n",
       "      <td>남부</td>\n",
       "    </tr>\n",
       "    <tr>\n",
       "      <th>5</th>\n",
       "      <td>2019-01-01 08:56:09</td>\n",
       "      <td>31</td>\n",
       "      <td>0.3</td>\n",
       "      <td>FC00005</td>\n",
       "      <td>대구공장</td>\n",
       "      <td>21</td>\n",
       "      <td>남부</td>\n",
       "      <td>WH00005</td>\n",
       "      <td>대구창고</td>\n",
       "      <td>72</td>\n",
       "      <td>남부</td>\n",
       "    </tr>\n",
       "    <tr>\n",
       "      <th>6</th>\n",
       "      <td>2019-01-01 09:00:15</td>\n",
       "      <td>33</td>\n",
       "      <td>0.7</td>\n",
       "      <td>FC00006</td>\n",
       "      <td>광주공장</td>\n",
       "      <td>30</td>\n",
       "      <td>남부</td>\n",
       "      <td>WH00006</td>\n",
       "      <td>광주창고</td>\n",
       "      <td>65</td>\n",
       "      <td>남부</td>\n",
       "    </tr>\n",
       "    <tr>\n",
       "      <th>9</th>\n",
       "      <td>2019-01-01 14:12:51</td>\n",
       "      <td>21</td>\n",
       "      <td>0.7</td>\n",
       "      <td>FC00006</td>\n",
       "      <td>광주공장</td>\n",
       "      <td>30</td>\n",
       "      <td>남부</td>\n",
       "      <td>WH00006</td>\n",
       "      <td>광주창고</td>\n",
       "      <td>65</td>\n",
       "      <td>남부</td>\n",
       "    </tr>\n",
       "  </tbody>\n",
       "</table>\n",
       "</div>"
      ],
      "text/plain": [
       "       TransactionDate  Quantity  Cost     ToFC FCName  FCDemand FCRegion  \\\n",
       "1  2019-01-01 06:12:42        19   1.3  FC00007   부산공장        25       남부   \n",
       "2  2019-01-01 06:32:32        31   0.9  FC00006   광주공장        30       남부   \n",
       "5  2019-01-01 08:56:09        31   0.3  FC00005   대구공장        21       남부   \n",
       "6  2019-01-01 09:00:15        33   0.7  FC00006   광주공장        30       남부   \n",
       "9  2019-01-01 14:12:51        21   0.7  FC00006   광주공장        30       남부   \n",
       "\n",
       "    FromWH WHName  WHSupply WHRegion  \n",
       "1  WH00006   광주창고        65       남부  \n",
       "2  WH00004   대전창고        60       남부  \n",
       "5  WH00005   대구창고        72       남부  \n",
       "6  WH00006   광주창고        65       남부  \n",
       "9  WH00006   광주창고        65       남부  "
      ]
     },
     "execution_count": 7,
     "metadata": {},
     "output_type": "execute_result"
    }
   ],
   "source": [
    "south = total_transaction.loc[total_transaction['WHRegion'] == '남부']\n",
    "south.head()"
   ]
  },
  {
   "cell_type": "markdown",
   "id": "baba0033",
   "metadata": {},
   "source": [
    "데이터 불러오기와 가공이 완료됐습니다.                     \n",
    "다음 테크닉에서 실제 운송량과 비용을 확인하고 지사 간 비교를 해봅시다."
   ]
  },
  {
   "cell_type": "markdown",
   "id": "5ef2fcd3",
   "metadata": {},
   "source": [
    ">> 현재의 운송량과 비용 확인"
   ]
  },
  {
   "cell_type": "markdown",
   "id": "e9cb102c",
   "metadata": {},
   "source": [
    "- 남북부 지사별 1년간 운송한 부품 수와 비용을 집계"
   ]
  },
  {
   "cell_type": "code",
   "execution_count": 8,
   "id": "02b2ea60",
   "metadata": {},
   "outputs": [
    {
     "name": "stdout",
     "output_type": "stream",
     "text": [
      "북부 운송 비용 : 2189.3 만원\n",
      "남부 운송 비용 : 2062.0 만원\n"
     ]
    }
   ],
   "source": [
    "print('북부 운송 비용 :', north['Cost'].sum(), '만원')\n",
    "print('남부 운송 비용 :', south['Cost'].sum(), '만원')"
   ]
  },
  {
   "cell_type": "code",
   "execution_count": 9,
   "id": "006b6ad6",
   "metadata": {},
   "outputs": [
    {
     "name": "stdout",
     "output_type": "stream",
     "text": [
      "북부 부품 총 운송 갯수 : 49146개\n",
      "남부 부품 총 운송 갯수 : 50214개\n"
     ]
    }
   ],
   "source": [
    "print('북부 부품 총 운송 갯수 : ' + str(north['Quantity'].sum()) + '개')\n",
    "print('남부 부품 총 운송 갯수 : ' + str(south['Quantity'].sum()) + '개')"
   ]
  },
  {
   "cell_type": "code",
   "execution_count": 10,
   "id": "7f53f777",
   "metadata": {},
   "outputs": [
    {
     "name": "stdout",
     "output_type": "stream",
     "text": [
      "북부 부품 1개당 운송 비용 : 445원\n",
      "남부 부품 1개당 운송 비용 : 410원\n"
     ]
    }
   ],
   "source": [
    "# 부품 1개 당 운송 비용\n",
    "tmp = (north['Cost'].sum() / north['Quantity'].sum()) * 10000\n",
    "print('북부 부품 1개당 운송 비용 : ' + str(int(tmp)) + '원')\n",
    "\n",
    "tmp = round((south['Cost'].sum() / south['Quantity'].sum()) * 10000, 2)\n",
    "print('남부 부품 1개당 운송 비용 : ' + str(int(tmp)) + '원')"
   ]
  },
  {
   "cell_type": "markdown",
   "id": "b13acf1b",
   "metadata": {},
   "source": [
    "총 운송 비용 : 북부 > 남부              \n",
    "총 운송 갯수 : 북부 < 남부              \n",
    "부품 1개당 운송 비용 : 북부 > 남부(남부가 저렴)              \n",
    "           \n",
    "운송 비용은 창고 > 공장 간에 발생하기 때문에 단순히 운송 비용을 절감하는 것만으로도 전체 물류 비용을 억제할 수 있습니다. 그러나 성급히 결론을 내기 전에 <u>각 지사의 평균 운송 비용</u>을 계산해 봅시다."
   ]
  },
  {
   "cell_type": "code",
   "execution_count": 11,
   "id": "c81008fb",
   "metadata": {},
   "outputs": [
    {
     "name": "stdout",
     "output_type": "stream",
     "text": [
      "4000\n",
      "북부 지사 평균 운송 비용 : 1.075만원\n",
      "남부 지사 평균 운송 비용 : 1.05만원\n"
     ]
    }
   ],
   "source": [
    "print(len(total_transaction))\n",
    "total_transaction.loc[total_transaction['FCRegion'] == total_transaction['WHRegion']]\n",
    "# 출력 0 > 북부 창고는 북부 공장으로만, 남부 창고는 남부 공장으로만\n",
    "\n",
    "trans_cost.head()\n",
    "trans_cost_region = trans_cost.merge(factory, how= 'left', on = 'FCID')\n",
    "trans_cost_region.head()\n",
    "\n",
    "print('북부 지사 평균 운송 비용 : ' + str(trans_cost_region.loc[trans_cost_region['FCRegion'] == '북부']['Cost'].mean()) + '만원')\n",
    "print('남부 지사 평균 운송 비용 : ' + str(trans_cost_region.loc[trans_cost_region['FCRegion'] == '남부']['Cost'].mean()) + '만원')"
   ]
  },
  {
   "cell_type": "markdown",
   "id": "8d0e5f2e",
   "metadata": {},
   "source": [
    "각 지사 평균 운송 비용은 크게 차이나지 않는데 위의 부품 1개당 운송 비용이 남부가 저렴한 걸 고려해보면 남부지사 쪽이 '효율 높게' 부품을 운송하고 있다는 것을 알 수 있습니다.                    \n",
    "이제 이 장의 테마인 '물류 최적 경로'를 분석하고 컨설팅해 봅시다."
   ]
  },
  {
   "cell_type": "markdown",
   "id": "7650cc03",
   "metadata": {},
   "source": [
    ">> 네트워크 가시화"
   ]
  },
  {
   "cell_type": "markdown",
   "id": "4b6290c1",
   "metadata": {},
   "source": [
    "최적화 문제를 푸는 라이브러리는 여러 가지가 있지만 단순히 사용 방법을 배우는 것으로는 실제 현장에서 도움이 안됩니다. 최적화 프로그램이 도출한 계획이 올바른지 그 계획을 선택할지 여부는 현장 의사결정권자의 이해 여부에 달려 있습니다. 그래서 <u>최적화 프로그램에 의해 도출된 계획을 가시화하는 프로세스</u>와 <u>몇 가지 조건을 실제로 만족하는지를 확인하는 프로세스가 중요</u>합니다.       \n",
    "최적 경로를 가시화하는 방법인 네트워크 가시화를 배워봅시다."
   ]
  },
  {
   "cell_type": "markdown",
   "id": "34ae5aa4",
   "metadata": {},
   "source": [
    "네트워크 가시화에 유용한 라이브러리  : NetworkX"
   ]
  },
  {
   "cell_type": "code",
   "execution_count": 12,
   "id": "f1305ea5",
   "metadata": {},
   "outputs": [],
   "source": [
    "# !pip install networkx"
   ]
  },
  {
   "cell_type": "code",
   "execution_count": 13,
   "id": "c385a0b7",
   "metadata": {},
   "outputs": [
    {
     "data": {
      "image/png": "[encoded data removed]",
      "text/plain": [
       "<Figure size 640x480 with 1 Axes>"
      ]
     },
     "metadata": {},
     "output_type": "display_data"
    }
   ],
   "source": [
    "# 기초 프로세스\n",
    "import networkx as nx \n",
    "import matplotlib.pyplot as plt\n",
    "\n",
    "# 그래프 객체 생성\n",
    "G = nx.Graph()\n",
    "\n",
    "# 노드 설정(점)\n",
    "G.add_node('nodeA')\n",
    "G.add_node('nodeB')\n",
    "G.add_node('nodeC')\n",
    "\n",
    "# 엣지 설정(선)\n",
    "G.add_edge('nodeA', 'nodeB')\n",
    "G.add_edge('nodeA', 'nodeC')\n",
    "G.add_edge('nodeB', 'nodeC')\n",
    "\n",
    "# 좌표 설정\n",
    "pos = {}\n",
    "pos['nodeA'] = (0, 0)\n",
    "pos['nodeB'] = (1, 1)\n",
    "pos['nodeC'] = (0, 1)\n",
    "\n",
    "# 그리기 \n",
    "nx.draw(G,pos)\n",
    "\n",
    "# 표시\n",
    "plt.show()"
   ]
  },
  {
   "cell_type": "markdown",
   "id": "3d57348e",
   "metadata": {},
   "source": [
    "먼저 그래프 객체를 선언하고 노드 A,B,C와 각각 연결할 엣지를 설정합니다. 다음으로 노드의 좌표를 설정하고 함수 draw를 이용해서 그립니다. 마지막으로 matplotlib의 show를 이용해서 화면에 표시합니다. 이런 흐름으로 네트워크를 가시화해서 창고에서 대리점까지의 물류를 표현할 수 있습니다. 네트워크를 가시화하면 숫자만으로 알기 어려운 물류의 쏠림과 같은 전체 그림을 파악할 수 있습니다."
   ]
  },
  {
   "cell_type": "code",
   "execution_count": 14,
   "id": "915c4dfd",
   "metadata": {},
   "outputs": [
    {
     "data": {
      "image/png": "[encoded data removed]",
      "text/plain": [
       "<Figure size 640x480 with 1 Axes>"
      ]
     },
     "metadata": {},
     "output_type": "display_data"
    }
   ],
   "source": [
    "# 노드 추가\n",
    "# 순서 : node(점), edge(선), 좌표(pos) pos = {}\n",
    "\n",
    "G.add_node('nodeD')\n",
    "\n",
    "G.add_edge('nodeA', 'nodeD')\n",
    "\n",
    "pos['nodeD'] = (1, 0)\n",
    "\n",
    "nx.draw(G, pos, with_labels= True)"
   ]
  },
  {
   "cell_type": "markdown",
   "id": "5ffac744",
   "metadata": {},
   "source": [
    ">> 경로 가중치 부여"
   ]
  },
  {
   "cell_type": "markdown",
   "id": "708ca1d0",
   "metadata": {},
   "source": [
    "가중치를 이용해서 노드 사이 엣지 굵기를 바꾸면 최적 경로를 알기 쉽게 가시화할 수 있습니다. 여기서는 CSV 파일에 저장된 가중치 정보를 데이터프레임으로 읽어 들여 그 값을 사용하는 방법을 이용합니다."
   ]
  },
  {
   "cell_type": "code",
   "execution_count": 15,
   "id": "d15513a5",
   "metadata": {},
   "outputs": [],
   "source": [
    "import pandas as pd\n",
    "import numpy as np\n",
    "import matplotlib.pyplot as plt\n",
    "import networkx as nx "
   ]
  },
  {
   "cell_type": "code",
   "execution_count": 25,
   "id": "8c00003e",
   "metadata": {},
   "outputs": [
    {
     "data": {
      "text/html": [
       "<div>\n",
       "<style scoped>\n",
       "    .dataframe tbody tr th:only-of-type {\n",
       "        vertical-align: middle;\n",
       "    }\n",
       "\n",
       "    .dataframe tbody tr th {\n",
       "        vertical-align: top;\n",
       "    }\n",
       "\n",
       "    .dataframe thead th {\n",
       "        text-align: right;\n",
       "    }\n",
       "</style>\n",
       "<table border=\"1\" class=\"dataframe\">\n",
       "  <thead>\n",
       "    <tr style=\"text-align: right;\">\n",
       "      <th></th>\n",
       "      <th>A</th>\n",
       "      <th>B</th>\n",
       "      <th>C</th>\n",
       "      <th>D</th>\n",
       "      <th>E</th>\n",
       "    </tr>\n",
       "  </thead>\n",
       "  <tbody>\n",
       "    <tr>\n",
       "      <th>0</th>\n",
       "      <td>0</td>\n",
       "      <td>0</td>\n",
       "      <td>2</td>\n",
       "      <td>2</td>\n",
       "      <td>1</td>\n",
       "    </tr>\n",
       "    <tr>\n",
       "      <th>1</th>\n",
       "      <td>0</td>\n",
       "      <td>2</td>\n",
       "      <td>0</td>\n",
       "      <td>2</td>\n",
       "      <td>1</td>\n",
       "    </tr>\n",
       "  </tbody>\n",
       "</table>\n",
       "</div>"
      ],
      "text/plain": [
       "   A  B  C  D  E\n",
       "0  0  0  2  2  1\n",
       "1  0  2  0  2  1"
      ]
     },
     "execution_count": 25,
     "metadata": {},
     "output_type": "execute_result"
    }
   ],
   "source": [
    "df_weight = pd.read_csv('./data/network_weight.csv')\n",
    "df_weight\n",
    "\n",
    "df_pos = pd.read_csv('./data/network_pos.csv')\n",
    "df_pos.head()\n"
   ]
  },
  {
   "cell_type": "code",
   "execution_count": null,
   "id": "34f977df",
   "metadata": {},
   "outputs": [],
   "source": [
    "G = nx.Graph()\n",
    "\n",
    "# 노드 설정\n",
    "for i in range(len(df_weight.columns)) :\n",
    "  G.add_node(df_weight.columns[i])\n",
    "\n",
    "size = 10\n",
    "# 엣지 설정 + 가중치 부여\n",
    "for i in range(len(df_weight.columns)) :\n",
    "  for j in range(i + 1, len(df_weight.columns)) : # 중복 방지\n",
    "    node1 = df_weight.columns[i]\n",
    "    node2 = df_weight.columns[j]\n",
    "    weight = df_weight.iloc[i, j] * size\n",
    "    G.add_edge(node1, node2, weight = weight)\n",
    "\n",
    "# 좌표 설정\n",
    "pos = {node : (df_pos[node][0], df_pos[node][1]) for node in df_pos.columns}\n",
    "\n",
    "# 엣지 가중치 추출\n",
    "edge_weights = [G[u][v]['weight'] for u, v in G.edges()]\n",
    "\n",
    "# 그리기\n",
    "nx.draw(G, pos, with_labels = True, \n",
    "        font_size = 16, node_size= 1000, node_color= 'k', font_color = 'w', width= edge_weights)\n",
    "\n",
    "# 표시 \n",
    "plt.show()\n"
   ]
  },
  {
   "cell_type": "code",
   "execution_count": null,
   "id": "d4b97e2c",
   "metadata": {},
   "outputs": [],
   "source": [
    "df_weight\n",
    "df_pos\n",
    "\n",
    "G = nx.Graph()\n",
    "\n",
    "for i in range(len(df_weight.columns)) :\n",
    "  G.add_node(df_weight.columns[i])\n",
    "\n",
    "for i in range(len(df_weight.columns)) :\n",
    "  for j in range(len(df_weight.columns)) :\n",
    "    node1 = df_weight.columns[i]\n",
    "    node2 = df_weight.columns[j]\n",
    "    weight = df_weight.iloc[i][j]\n",
    "    G.add_edge(node1, node2, weight= weight)\n",
    "\n",
    "pos = {node : (df_pos[node][0], df_pos[node][1]) for node in df_weight.columns}\n",
    "\n",
    "edge_weights = [G[u][v][weight] for u, v in G.edges()]\n",
    "\n"
   ]
  }
 ],
 "metadata": {
  "kernelspec": {
   "display_name": "Python 3",
   "language": "python",
   "name": "python3"
  },
  "language_info": {
   "codemirror_mode": {
    "name": "ipython",
    "version": 3
   },
   "file_extension": ".py",
   "mimetype": "text/x-python",
   "name": "python",
   "nbconvert_exporter": "python",
   "pygments_lexer": "ipython3",
   "version": "3.11.9"
  }
 },
 "nbformat": 4,
 "nbformat_minor": 5
}
