{
 "cells": [
  {
   "cell_type": "markdown",
   "id": "bf2ec6f6",
   "metadata": {},
   "source": [
    "### 대리점의 매출 이력과 고객 정보 데이터를 이용한 데이터 가공"
   ]
  },
  {
   "cell_type": "markdown",
   "id": "ef68ce12",
   "metadata": {},
   "source": [
    "- 대리점 데이터는 <u>시스템에 의해 관리되는 쇼핑몰 사이트</u>와는 다르게 사람의 손을 탑니다.               \n",
    "그래서 날짜 입력 실수나 데이터 누락 등'오류'가 많이 포함되어 있습니다.             \n",
    "이런 **'지저분한' 데이터를 다루는 연습으로 대리점 데이터가 적당**하다고 할 수 있습니다.               \n",
    "              \n",
    "              \n",
    "- 대리점 이외의 비즈니스 현장에서도 엑셀(Excel)처럼 수작업으로 입력하는 경우가 많습니다.                 \n",
    "손으로 입력한 데이터는 기계적인 입력 확인이 이루어지지 않기 때문에           \n",
    "데이터가 점점 '지저분'해지고 그대로는 데이터 분석에 활용할 수 없습니다.                   \n",
    "                    \n",
    "                   \n",
    "- 그 외에도, 각각 다른 부서에서 수집된 데이터를 다루는 경우에는                \n",
    "각기 독자적인 시스템으로 데이터가 관리되므로 그것들을 통일하는 것 또한 쉽지 않습니다.            "
   ]
  },
  {
   "cell_type": "markdown",
   "id": "291c77aa",
   "metadata": {},
   "source": [
    "고객의 소리)\n",
    "우리 회사에서는 고객 정보를 엑셀로 관리합니다. 장사는 잘되고 대리점의 매출도 안정적입니다. 데이터가 풍부할 때 데이터 분석을 해두면 여러 가지 발견을 할 수 있지 않을까 합니다. 시험 삼아 데이터 분석을 부탁드립니다."
   ]
  },
  {
   "cell_type": "markdown",
   "id": "59917aba",
   "metadata": {},
   "source": [
    "전제 조건)\n",
    "\n",
    "상품 : A ~ Z 까지 26개의 상품                         \n",
    "데이터 : 매출 이력 & 고객 정보 데이터를 담당 사원이 시스템에 '직접 입력'                         \n",
    "\n",
    " * 집계 기간 중 상품 단가 변동 X                \n",
    " * 매출 이력은 시스템에서 csv파일로 출력                          \n",
    " * 고객 정보는 대리점 '관리자가 주별로 집계'해서 엑셀로 관리\n",
    "<n>\n",
    "\n",
    "</n>\n",
    "\n",
    " uriage.csv : 매출 이력(기간은 2019.01 ~ 2019.07)                   \n",
    " kokyaku_daicho.xlsx : 대리점에서 관리하는 고객 정보"
   ]
  },
  {
   "cell_type": "code",
   "execution_count": 102,
   "id": "cbb3bbc3",
   "metadata": {},
   "outputs": [
    {
     "name": "stdout",
     "output_type": "stream",
     "text": [
      "      purchase_date item_name  item_price customer_name\n",
      "0  2019-06-13 18:02       상품A       100.0           김가온\n",
      "1  2019-07-13 13:05     상 품 S         NaN           김우찬\n",
      "2  2019-05-11 19:42     상 품 a         NaN           김유찬\n",
      "3  2019-02-12 23:40       상품Z      2600.0           김재현\n",
      "4   2019-04-22 3:09       상품a         NaN           김강현\n",
      "\n",
      "   고객이름  지역                  등록일\n",
      "0  김 현성  H시  2018-01-04 00:00:00\n",
      "1  김 도윤  E시                42782\n",
      "2  김 지한  A시  2018-01-07 00:00:00\n",
      "3  김 하윤  F시                42872\n",
      "4  김 시온  E시                43127\n"
     ]
    }
   ],
   "source": [
    "import pandas as pd\n",
    "\n",
    "sale_df = pd.read_csv('C:/Users/LGCARE/Desktop/개인/Study_DataTechniques/01. DataProcess/data/2장/uriage.csv')\n",
    "customer_df = pd.read_excel('C:/Users/LGCARE/Desktop/개인/Study_DataTechniques/01. DataProcess/data/2장/kokyaku_daicho.xlsx',\n",
    "                            )\n",
    "\n",
    "# sale_df.info()\n",
    "print(sale_df.head())\n",
    "print()\n",
    "\n",
    "# customer_df.info()\n",
    "print(customer_df.head())\n",
    "\n",
    "# item_name, item_price에 결측치, 오류 존재 > '데이터의 정합성에 문제가 있다'\n"
   ]
  },
  {
   "cell_type": "markdown",
   "id": "97282acd",
   "metadata": {},
   "source": [
    "> 데이터 오류의 예\n",
    "\n",
    "- 날짜 \n",
    "1) 2019-10-10\n",
    "2) 2019/10/10\n",
    "3) 10/10/2019\n",
    "4) 2019년 10월 10일                 \n",
    ": 같은 날짜라도 포맷이 다르면 다른 문자열 데이터가 됩니다.                               \n",
    "  이런 오류를 자동으로 수정해주는 언어도 있지만 여러 가지 포맷이 섞여 있는 경우에는 주의해야 합니다.\n",
    "\n",
    "이름\n",
    "1) 김현성\n",
    "2) 김 현성\n",
    "3) 김현 성\n",
    "4) 김 현성\n",
    "5) 김현  성                    \n",
    ": 공백 유무로 시스템은 다른 데이터로 인식합니다.                   \n",
    "  입력 시 실수로 인해 같은 이름이 다른 이름이 됩니다.\n",
    "\n",
    "-> 데이터의 오류를 해소하고 정합성을 보장하는 것은 데이터 분석의 기초가 되는 중요한 부분              \n",
    "-> 정합성을 갖추기 위해서는 먼저 '데이터의 속성'이나 '의미'를 이해해야 합니다.              \n",
    "   매출 이력에 purchase_date, item_name, item_price, customer_name이 잇는 것을 확인할 수 있습니다.                \n",
    "   정합성의 확보는 우선 데이터의 오류를 파악하는 것부터 시작합니다.                  "
   ]
  },
  {
   "cell_type": "code",
   "execution_count": 103,
   "id": "7b6dc0db",
   "metadata": {},
   "outputs": [
    {
     "data": {
      "text/plain": [
       "0     100.0\n",
       "1       NaN\n",
       "2       NaN\n",
       "3    2600.0\n",
       "4       NaN\n",
       "Name: item_price, dtype: float64"
      ]
     },
     "execution_count": 103,
     "metadata": {},
     "output_type": "execute_result"
    }
   ],
   "source": [
    "sale_df['item_name'].head() # 공백, 대소문자\n",
    "sale_df['item_price'].head() # 결측치"
   ]
  },
  {
   "cell_type": "markdown",
   "id": "1d78103d",
   "metadata": {},
   "source": [
    ">> 오류가 있는 상태에서 상품별 월 매출 집계"
   ]
  },
  {
   "cell_type": "code",
   "execution_count": 104,
   "id": "86980a22",
   "metadata": {},
   "outputs": [
    {
     "name": "stdout",
     "output_type": "stream",
     "text": [
      "                          item_price\n",
      "purchase_month item_name            \n",
      "201901          상 품 n         1400.0\n",
      "               상 품H            800.0\n",
      "               상 품O           1500.0\n",
      "               상 품P           1600.0\n",
      "               상 품T           2000.0\n",
      "...                              ...\n",
      "201907         상품X           38400.0\n",
      "               상품Y           27500.0\n",
      "               상품i             900.0\n",
      "               상품o            1500.0\n",
      "               상품r            1800.0\n",
      "\n",
      "[265 rows x 1 columns]\n",
      "item_name        상 품 n   상품 E   상품 M   상품 P   상품 S   상품 W   상품 X   상품W  상  품O  \\\n",
      "purchase_month                                                                  \n",
      "201901               1      0      0      0      0      0      0     0      0   \n",
      "201902               0      0      0      0      0      0      1     0      0   \n",
      "201903               0      1      1      1      0      0      0     0      0   \n",
      "201904               0      0      0      0      0      0      0     1      0   \n",
      "201905               0      0      0      0      1      0      0     0      0   \n",
      "201906               0      0      0      0      0      1      0     0      0   \n",
      "201907               0      0      0      0      0      0      0     0      1   \n",
      "\n",
      "item_name       상  품Q  ...  상품k  상품l  상품o  상품p  상품r  상품s  상품t  상품v  상품x  상품y  \n",
      "purchase_month         ...                                                    \n",
      "201901              0  ...    1    1    1    0    0    0    0    0    0    0  \n",
      "201902              0  ...    0    0    0    0    0    1    1    1    0    0  \n",
      "201903              0  ...    0    0    0    0    0    0    0    0    0    0  \n",
      "201904              1  ...    0    0    0    0    0    1    0    0    0    0  \n",
      "201905              0  ...    0    1    0    0    0    0    0    0    0    1  \n",
      "201906              0  ...    0    0    0    1    0    0    0    0    1    0  \n",
      "201907              0  ...    0    0    1    0    2    0    0    0    0    0  \n",
      "\n",
      "[7 rows x 99 columns]\n"
     ]
    }
   ],
   "source": [
    "sale_df['purchase_date'] = pd.to_datetime(sale_df['purchase_date'])\n",
    "sale_df.dtypes\n",
    "\n",
    "sale_df['purchase_month'] = sale_df['purchase_date'].dt.strftime('%Y%m')\n",
    "sale_df['purchase_month'].head()\n",
    "\n",
    "# 1) groupby\n",
    "print(sale_df.groupby(['purchase_month', 'item_name'])[['item_price']].sum())\n",
    "\n",
    "# 2) pivot_table\n",
    "# size : 상품의 판매 건수\n",
    "print(pd.pivot_table(data= sale_df, index= 'purchase_month', columns= 'item_name', aggfunc= 'size',\n",
    "                     fill_value= 0)) # 'size' > values (X)"
   ]
  },
  {
   "cell_type": "code",
   "execution_count": 105,
   "id": "dd7173d9",
   "metadata": {},
   "outputs": [
    {
     "name": "stdout",
     "output_type": "stream",
     "text": [
      "item_name        상 품 n   상품 E    상품 M    상품 P    상품 S    상품 W    상품 X     상품W  \\\n",
      "purchase_month                                                                  \n",
      "201901          1400.0    0.0     0.0     0.0     0.0     0.0     0.0     0.0   \n",
      "201902             0.0    0.0     0.0     0.0     0.0     0.0  2400.0     0.0   \n",
      "201903             0.0  500.0  1300.0  1600.0     0.0     0.0     0.0     0.0   \n",
      "201904             0.0    0.0     0.0     0.0     0.0     0.0     0.0  2300.0   \n",
      "201905             0.0    0.0     0.0     0.0  1900.0     0.0     0.0     0.0   \n",
      "201906             0.0    0.0     0.0     0.0     0.0  2300.0     0.0     0.0   \n",
      "201907             0.0    0.0     0.0     0.0     0.0     0.0     0.0     0.0   \n",
      "\n",
      "item_name       상  품O   상  품Q  ...     상품k     상품l     상품o     상품p     상품r  \\\n",
      "purchase_month                 ...                                           \n",
      "201901            0.0     0.0  ...  1100.0  1200.0  1500.0     0.0     0.0   \n",
      "201902            0.0     0.0  ...     0.0     0.0     0.0     0.0     0.0   \n",
      "201903            0.0     0.0  ...     0.0     0.0     0.0     0.0     0.0   \n",
      "201904            0.0  1700.0  ...     0.0     0.0     0.0     0.0     0.0   \n",
      "201905            0.0     0.0  ...     0.0  1200.0     0.0     0.0     0.0   \n",
      "201906            0.0     0.0  ...     0.0     0.0     0.0  1600.0     0.0   \n",
      "201907            0.0     0.0  ...     0.0     0.0  1500.0     0.0  1800.0   \n",
      "\n",
      "item_name          상품s     상품t     상품v     상품x     상품y  \n",
      "purchase_month                                          \n",
      "201901             0.0     0.0     0.0     0.0     0.0  \n",
      "201902          1900.0  2000.0  2200.0     0.0     0.0  \n",
      "201903             0.0     0.0     0.0     0.0     0.0  \n",
      "201904          1900.0     0.0     0.0     0.0     0.0  \n",
      "201905             0.0     0.0     0.0     0.0  2500.0  \n",
      "201906             0.0     0.0     0.0  2400.0     0.0  \n",
      "201907             0.0     0.0     0.0     0.0     0.0  \n",
      "\n",
      "[7 rows x 99 columns]\n"
     ]
    }
   ],
   "source": [
    "# 상품 S와 상품 s가 별도의 상품으로 집계\n",
    "# 원래 26개의 상품이 99개의 상품으로 늘어남\n",
    "\n",
    "print(pd.pivot_table(data= sale_df, values= 'item_price', index= 'purchase_month', columns= 'item_name', aggfunc= 'sum',\n",
    "                     fill_value= 0))"
   ]
  },
  {
   "cell_type": "markdown",
   "id": "bb63c5ba",
   "metadata": {},
   "source": [
    ">> 상품명 오류 수정"
   ]
  },
  {
   "cell_type": "code",
   "execution_count": 106,
   "id": "6b3c812a",
   "metadata": {},
   "outputs": [
    {
     "data": {
      "text/html": [
       "<div>\n",
       "<style scoped>\n",
       "    .dataframe tbody tr th:only-of-type {\n",
       "        vertical-align: middle;\n",
       "    }\n",
       "\n",
       "    .dataframe tbody tr th {\n",
       "        vertical-align: top;\n",
       "    }\n",
       "\n",
       "    .dataframe thead th {\n",
       "        text-align: right;\n",
       "    }\n",
       "</style>\n",
       "<table border=\"1\" class=\"dataframe\">\n",
       "  <thead>\n",
       "    <tr style=\"text-align: right;\">\n",
       "      <th></th>\n",
       "      <th>purchase_date</th>\n",
       "      <th>item_name</th>\n",
       "      <th>item_price</th>\n",
       "      <th>customer_name</th>\n",
       "      <th>purchase_month</th>\n",
       "    </tr>\n",
       "  </thead>\n",
       "  <tbody>\n",
       "    <tr>\n",
       "      <th>0</th>\n",
       "      <td>2019-06-13 18:02:00</td>\n",
       "      <td>상품A</td>\n",
       "      <td>100.0</td>\n",
       "      <td>김가온</td>\n",
       "      <td>201906</td>\n",
       "    </tr>\n",
       "    <tr>\n",
       "      <th>1748</th>\n",
       "      <td>2019-05-19 20:22:00</td>\n",
       "      <td>상품A</td>\n",
       "      <td>100.0</td>\n",
       "      <td>김시훈</td>\n",
       "      <td>201905</td>\n",
       "    </tr>\n",
       "    <tr>\n",
       "      <th>223</th>\n",
       "      <td>2019-06-25 08:13:00</td>\n",
       "      <td>상품A</td>\n",
       "      <td>100.0</td>\n",
       "      <td>김유진</td>\n",
       "      <td>201906</td>\n",
       "    </tr>\n",
       "    <tr>\n",
       "      <th>1742</th>\n",
       "      <td>2019-06-13 16:03:00</td>\n",
       "      <td>상품A</td>\n",
       "      <td>100.0</td>\n",
       "      <td>김건희</td>\n",
       "      <td>201906</td>\n",
       "    </tr>\n",
       "    <tr>\n",
       "      <th>1738</th>\n",
       "      <td>2019-02-10 00:28:00</td>\n",
       "      <td>상품A</td>\n",
       "      <td>100.0</td>\n",
       "      <td>김하랑</td>\n",
       "      <td>201902</td>\n",
       "    </tr>\n",
       "    <tr>\n",
       "      <th>...</th>\n",
       "      <td>...</td>\n",
       "      <td>...</td>\n",
       "      <td>...</td>\n",
       "      <td>...</td>\n",
       "      <td>...</td>\n",
       "    </tr>\n",
       "    <tr>\n",
       "      <th>2880</th>\n",
       "      <td>2019-04-22 00:36:00</td>\n",
       "      <td>상품Y</td>\n",
       "      <td>NaN</td>\n",
       "      <td>김동욱</td>\n",
       "      <td>201904</td>\n",
       "    </tr>\n",
       "    <tr>\n",
       "      <th>2881</th>\n",
       "      <td>2019-04-30 14:21:00</td>\n",
       "      <td>상품Y</td>\n",
       "      <td>NaN</td>\n",
       "      <td>김하준</td>\n",
       "      <td>201904</td>\n",
       "    </tr>\n",
       "    <tr>\n",
       "      <th>1525</th>\n",
       "      <td>2019-01-24 10:27:00</td>\n",
       "      <td>상품Y</td>\n",
       "      <td>2500.0</td>\n",
       "      <td>김범준</td>\n",
       "      <td>201901</td>\n",
       "    </tr>\n",
       "    <tr>\n",
       "      <th>1361</th>\n",
       "      <td>2019-05-28 13:45:00</td>\n",
       "      <td>상품Y</td>\n",
       "      <td>2500.0</td>\n",
       "      <td>김수현</td>\n",
       "      <td>201905</td>\n",
       "    </tr>\n",
       "    <tr>\n",
       "      <th>3</th>\n",
       "      <td>2019-02-12 23:40:00</td>\n",
       "      <td>상품Z</td>\n",
       "      <td>2600.0</td>\n",
       "      <td>김재현</td>\n",
       "      <td>201902</td>\n",
       "    </tr>\n",
       "  </tbody>\n",
       "</table>\n",
       "<p>2999 rows × 5 columns</p>\n",
       "</div>"
      ],
      "text/plain": [
       "           purchase_date item_name  item_price customer_name purchase_month\n",
       "0    2019-06-13 18:02:00       상품A       100.0           김가온         201906\n",
       "1748 2019-05-19 20:22:00       상품A       100.0           김시훈         201905\n",
       "223  2019-06-25 08:13:00       상품A       100.0           김유진         201906\n",
       "1742 2019-06-13 16:03:00       상품A       100.0           김건희         201906\n",
       "1738 2019-02-10 00:28:00       상품A       100.0           김하랑         201902\n",
       "...                  ...       ...         ...           ...            ...\n",
       "2880 2019-04-22 00:36:00       상품Y         NaN           김동욱         201904\n",
       "2881 2019-04-30 14:21:00       상품Y         NaN           김하준         201904\n",
       "1525 2019-01-24 10:27:00       상품Y      2500.0           김범준         201901\n",
       "1361 2019-05-28 13:45:00       상품Y      2500.0           김수현         201905\n",
       "3    2019-02-12 23:40:00       상품Z      2600.0           김재현         201902\n",
       "\n",
       "[2999 rows x 5 columns]"
      ]
     },
     "execution_count": 106,
     "metadata": {},
     "output_type": "execute_result"
    }
   ],
   "source": [
    "# 명목형\n",
    "\n",
    "# sale_df.head() # 공백, 대소문자\n",
    "\n",
    "# 현황 파악\n",
    "\n",
    "sale_df['item_name'].unique()\n",
    "\n",
    "# sale_df['item_name'] = sale_df['item_name'].apply(str.upper())\n",
    "sale_df['item_name'] = sale_df['item_name'].str.upper()\n",
    "sale_df['item_name'].head()\n",
    "\n",
    "sale_df['item_name'] = sale_df['item_name'].str.replace(' ', '')\n",
    "sale_df['item_name'].head()\n",
    "\n",
    "sale_df['item_name'].unique()\n",
    "# len(sale_df['item_name'].unique())\n",
    "sale_df['item_name'].nunique()\n",
    "\n",
    "sale_df.sort_values(by= 'item_name', ascending= True)"
   ]
  },
  {
   "cell_type": "markdown",
   "id": "a8a643d4",
   "metadata": {},
   "source": [
    ">> 금액 결측치 수정"
   ]
  },
  {
   "cell_type": "code",
   "execution_count": 107,
   "id": "1664ece3",
   "metadata": {},
   "outputs": [
    {
     "data": {
      "text/plain": [
       "purchase_date     False\n",
       "item_name         False\n",
       "item_price         True\n",
       "customer_name     False\n",
       "purchase_month    False\n",
       "dtype: bool"
      ]
     },
     "execution_count": 107,
     "metadata": {},
     "output_type": "execute_result"
    }
   ],
   "source": [
    "# 연속형\n",
    "\n",
    "sale_df['item_price'].head()\n",
    "sale_df['item_price'].describe()\n",
    "sale_df.isnull().any(axis= 0)\n",
    "\n",
    "\n",
    "# 이번 케이스의 경우 집계 기간에 상품 단가의 변동이 없다는 전제 조건이 있었기 때문에\n",
    "# 결측치는 같은 상품의 단가를 이용하면 수정할 수 있습니다.\n"
   ]
  },
  {
   "cell_type": "code",
   "execution_count": 108,
   "id": "1bcbef80",
   "metadata": {},
   "outputs": [
    {
     "data": {
      "text/plain": [
       "{'상품A': 10000}"
      ]
     },
     "execution_count": 108,
     "metadata": {},
     "output_type": "execute_result"
    }
   ],
   "source": [
    "import numpy as np\n",
    "\n",
    "item_name_price_dict = dict()\n",
    "\n",
    "item_name_price_dict['상품A']  = int(np.float64(10000))\n",
    "item_name_price_dict"
   ]
  },
  {
   "cell_type": "code",
   "execution_count": null,
   "id": "aa822ac3",
   "metadata": {},
   "outputs": [],
   "source": [
    "item_name_price_dict = dict()\n",
    "\n",
    "for idx, item_nm in enumerate(sale_df['item_name']) :\n",
    "  # print(idx, ':', item_nm) \n",
    "  if pd.notna(sale_df.loc[idx, 'item_price']) :\n",
    "    item_name_price_dict[item_nm] = int(sale_df.loc[idx, 'item_price'])\n",
    "  \n",
    "for idx, item_nm in enumerate(sale_df['item_name']) :\n",
    "  if pd.isna(sale_df.loc[idx, 'item_price']) :\n",
    "    sale_df.loc[idx, 'item_price'] = item_name_price_dict[item_nm]\n",
    "\n",
    "sale_df.isnull().any(axis= 0)\n",
    "sale_df['item_price'].head()"
   ]
  },
  {
   "cell_type": "code",
   "execution_count": 120,
   "id": "e3baee1e",
   "metadata": {},
   "outputs": [
    {
     "data": {
      "text/plain": [
       "25"
      ]
     },
     "execution_count": 120,
     "metadata": {},
     "output_type": "execute_result"
    }
   ],
   "source": [
    "is_null_df = sale_df['item_price'].isnull()\n",
    "\n",
    "len(sale_df.loc[is_null_df, 'item_name'].unique())\n"
   ]
  },
  {
   "cell_type": "code",
   "execution_count": null,
   "id": "430c29dd",
   "metadata": {},
   "outputs": [
    {
     "name": "stdout",
     "output_type": "stream",
     "text": [
      "상품S\n",
      "상품A\n",
      "상품P\n",
      "상품N\n",
      "상품W\n",
      "상품R\n",
      "상품I\n",
      "상품L\n",
      "상품F\n",
      "상품O\n",
      "상품B\n",
      "상품C\n",
      "상품V\n",
      "상품Q\n",
      "상품U\n",
      "상품K\n",
      "상품T\n",
      "상품X\n",
      "상품E\n",
      "상품M\n",
      "상품G\n",
      "상품J\n",
      "상품D\n",
      "상품H\n",
      "상품Y\n"
     ]
    },
    {
     "data": {
      "text/html": [
       "<div>\n",
       "<style scoped>\n",
       "    .dataframe tbody tr th:only-of-type {\n",
       "        vertical-align: middle;\n",
       "    }\n",
       "\n",
       "    .dataframe tbody tr th {\n",
       "        vertical-align: top;\n",
       "    }\n",
       "\n",
       "    .dataframe thead th {\n",
       "        text-align: right;\n",
       "    }\n",
       "</style>\n",
       "<table border=\"1\" class=\"dataframe\">\n",
       "  <thead>\n",
       "    <tr style=\"text-align: right;\">\n",
       "      <th></th>\n",
       "      <th>purchase_date</th>\n",
       "      <th>item_name</th>\n",
       "      <th>item_price</th>\n",
       "      <th>customer_name</th>\n",
       "      <th>purchase_month</th>\n",
       "    </tr>\n",
       "  </thead>\n",
       "  <tbody>\n",
       "    <tr>\n",
       "      <th>0</th>\n",
       "      <td>2019-06-13 18:02:00</td>\n",
       "      <td>상품A</td>\n",
       "      <td>100.0</td>\n",
       "      <td>김가온</td>\n",
       "      <td>201906</td>\n",
       "    </tr>\n",
       "    <tr>\n",
       "      <th>1</th>\n",
       "      <td>2019-07-13 13:05:00</td>\n",
       "      <td>상품S</td>\n",
       "      <td>NaN</td>\n",
       "      <td>김우찬</td>\n",
       "      <td>201907</td>\n",
       "    </tr>\n",
       "    <tr>\n",
       "      <th>2</th>\n",
       "      <td>2019-05-11 19:42:00</td>\n",
       "      <td>상품A</td>\n",
       "      <td>NaN</td>\n",
       "      <td>김유찬</td>\n",
       "      <td>201905</td>\n",
       "    </tr>\n",
       "    <tr>\n",
       "      <th>3</th>\n",
       "      <td>2019-02-12 23:40:00</td>\n",
       "      <td>상품Z</td>\n",
       "      <td>2600.0</td>\n",
       "      <td>김재현</td>\n",
       "      <td>201902</td>\n",
       "    </tr>\n",
       "    <tr>\n",
       "      <th>4</th>\n",
       "      <td>2019-04-22 03:09:00</td>\n",
       "      <td>상품A</td>\n",
       "      <td>NaN</td>\n",
       "      <td>김강현</td>\n",
       "      <td>201904</td>\n",
       "    </tr>\n",
       "  </tbody>\n",
       "</table>\n",
       "</div>"
      ],
      "text/plain": [
       "        purchase_date item_name  item_price customer_name purchase_month\n",
       "0 2019-06-13 18:02:00       상품A       100.0           김가온         201906\n",
       "1 2019-07-13 13:05:00       상품S         NaN           김우찬         201907\n",
       "2 2019-05-11 19:42:00       상품A         NaN           김유찬         201905\n",
       "3 2019-02-12 23:40:00       상품Z      2600.0           김재현         201902\n",
       "4 2019-04-22 03:09:00       상품A         NaN           김강현         201904"
      ]
     },
     "execution_count": 116,
     "metadata": {},
     "output_type": "execute_result"
    }
   ],
   "source": [
    "# 책)\n",
    "\n",
    "for nan_item_nm in list(sale_df.loc[is_null_df, 'item_name'].unique()) :\n",
    "  print(nan_item_nm)/\n",
    "  # price = sale_df.loc[(~is_null_df) & (sale_df['item_name'] == trg), 'item_price'].max()\n",
    "  # sale_df['item_price'].loc[(is_null_df) & (sale_df['item_name'] == trg)] = price\n",
    "\n",
    "sale_df.head()"
   ]
  }
 ],
 "metadata": {
  "kernelspec": {
   "display_name": "Python 3",
   "language": "python",
   "name": "python3"
  },
  "language_info": {
   "codemirror_mode": {
    "name": "ipython",
    "version": 3
   },
   "file_extension": ".py",
   "mimetype": "text/x-python",
   "name": "python",
   "nbconvert_exporter": "python",
   "pygments_lexer": "ipython3",
   "version": "3.11.9"
  }
 },
 "nbformat": 4,
 "nbformat_minor": 5
}
